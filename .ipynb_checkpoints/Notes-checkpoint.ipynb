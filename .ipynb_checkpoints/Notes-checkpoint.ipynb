{
 "cells": [
  {
   "cell_type": "markdown",
   "id": "39b48ea1",
   "metadata": {},
   "source": [
    "## Developer Fundanmentals"
   ]
  },
  {
   "cell_type": "markdown",
   "id": "4059730a",
   "metadata": {},
   "source": [
    "### What is good code?"
   ]
  },
  {
   "cell_type": "markdown",
   "id": "d48f2ba5",
   "metadata": {},
   "source": [
    "* clean\n",
    "* Readability\n",
    "* Predictability\n",
    "* DRY(Don't repeat yourself)\n",
    "* reusable"
   ]
  },
  {
   "cell_type": "markdown",
   "id": "1108d062",
   "metadata": {},
   "source": [
    "### Test your assumptions"
   ]
  },
  {
   "cell_type": "markdown",
   "id": "a2fb9ec4",
   "metadata": {},
   "source": [
    "### Pros and cons of libraries"
   ]
  },
  {
   "cell_type": "markdown",
   "id": "57fff0cd",
   "metadata": {},
   "source": [
    "* Some packages are really good and some may be buggy and don't work well\n",
    "* Make sure the library is popular with the community and being maintained\n",
    "* Before importing a library, please consider how big of the data is or your projects will be\n",
    "* Finally, ask yourself if this function you can write by yourself"
   ]
  },
  {
   "cell_type": "markdown",
   "id": "f97c3095",
   "metadata": {},
   "source": [
    "## Tuple"
   ]
  },
  {
   "cell_type": "markdown",
   "id": "65f633f1",
   "metadata": {},
   "source": [
    "* Immutable list\n",
    "* It is more efficient & safer & preditable\n",
    "* It is **faster than list**    "
   ]
  },
  {
   "cell_type": "code",
   "execution_count": 184,
   "id": "4a472fe4",
   "metadata": {},
   "outputs": [
    {
     "name": "stdout",
     "output_type": "stream",
     "text": [
      "Select item: 4\n",
      "Check item: True\n",
      "Get dictionary items: dict_items([('basket', [1, 2, 3]), ('greet', 'hello'), ('age', 20)])\n",
      "Get one of the dictionary item: [1, 2, 3]\n"
     ]
    }
   ],
   "source": [
    "my_tuple = (1,2,3,4,5)\n",
    "print('Select item:',my_tuple[3])\n",
    "print('Check item:',5 in my_tuple)\n",
    "user = {\n",
    "    'basket':[1,2,3],\n",
    "    'greet':'hello',\n",
    "    'age':20\n",
    "}\n",
    "print('Get dictionary items:',user.items())\n",
    "user = {\n",
    "    (1,2):[1,2,3], \n",
    "    'greet':'hello',\n",
    "    'age':20\n",
    "}\n",
    "print('Get one of the dictionary item:',user[(1,2)])"
   ]
  },
  {
   "cell_type": "markdown",
   "id": "cc48c48f",
   "metadata": {},
   "source": [
    "### Tuple Methods"
   ]
  },
  {
   "cell_type": "markdown",
   "id": "854909e3",
   "metadata": {},
   "source": [
    "* https://www.w3schools.com/python/python_ref_tuple.asp"
   ]
  },
  {
   "cell_type": "code",
   "execution_count": 183,
   "id": "e8dc9d14",
   "metadata": {},
   "outputs": [
    {
     "name": "stdout",
     "output_type": "stream",
     "text": [
      "Methods: 1 2\n",
      "Methods-*other: [4, 5]\n"
     ]
    }
   ],
   "source": [
    "my_tuple = (1,2,3,4,5)\n",
    "x,y,z,*other = (1,2,3,4,5)\n",
    "print('Methods:',x,y)\n",
    "print('Methods-*other:',other)"
   ]
  },
  {
   "cell_type": "markdown",
   "id": "3c3171c0",
   "metadata": {},
   "source": [
    "`count()`"
   ]
  },
  {
   "cell_type": "code",
   "execution_count": 180,
   "id": "816d924e",
   "metadata": {},
   "outputs": [
    {
     "name": "stdout",
     "output_type": "stream",
     "text": [
      "Methods-Count: 1\n"
     ]
    }
   ],
   "source": [
    "print('Methods-Count:',my_tuple.count(5))"
   ]
  },
  {
   "cell_type": "markdown",
   "id": "df9b020a",
   "metadata": {},
   "source": [
    "`index()`"
   ]
  },
  {
   "cell_type": "code",
   "execution_count": 181,
   "id": "3f727127",
   "metadata": {},
   "outputs": [
    {
     "name": "stdout",
     "output_type": "stream",
     "text": [
      "Methods-Index: 4\n"
     ]
    }
   ],
   "source": [
    "print('Methods-Index:',my_tuple.index(5))"
   ]
  },
  {
   "cell_type": "markdown",
   "id": "af2e4575",
   "metadata": {},
   "source": [
    "`len()`"
   ]
  },
  {
   "cell_type": "code",
   "execution_count": 182,
   "id": "9b601134",
   "metadata": {},
   "outputs": [
    {
     "name": "stdout",
     "output_type": "stream",
     "text": [
      "Methods-Len: 5\n"
     ]
    }
   ],
   "source": [
    "print('Methods-Len:',len(my_tuple))    "
   ]
  },
  {
   "cell_type": "markdown",
   "id": "ee3aca05",
   "metadata": {},
   "source": [
    "## Set"
   ]
  },
  {
   "cell_type": "markdown",
   "id": "90ade9e0",
   "metadata": {},
   "source": [
    "* **Unordered collection** of unique objects (only return & count unique sets/items)"
   ]
  },
  {
   "cell_type": "code",
   "execution_count": 204,
   "id": "6b3d9d79",
   "metadata": {},
   "outputs": [
    {
     "name": "stdout",
     "output_type": "stream",
     "text": [
      "Set: {1, 2, 3, 4, 5, 100}\n",
      "Check item: True\n"
     ]
    }
   ],
   "source": [
    "my_set = {1,2,3,4,5,5}\n",
    "my_set.add(100)\n",
    "my_set.add(2)\n",
    "print('Set:',my_set)\n",
    "print('Check item:',5 in my_set)"
   ]
  },
  {
   "cell_type": "markdown",
   "id": "dc5f570d",
   "metadata": {},
   "source": [
    "`print(my_set[0])`\n",
    "* set object does not support indexing"
   ]
  },
  {
   "cell_type": "code",
   "execution_count": 205,
   "id": "72fe01e0",
   "metadata": {},
   "outputs": [
    {
     "name": "stdout",
     "output_type": "stream",
     "text": [
      "Functions-copy: {1, 2, 3, 4, 5, 100}\n"
     ]
    }
   ],
   "source": [
    "new_set = my_set.copy()\n",
    "print('Functions-copy:',new_set)"
   ]
  },
  {
   "cell_type": "markdown",
   "id": "a49b1008",
   "metadata": {},
   "source": [
    "`set(list_name)`\n",
    "* convert list to set"
   ]
  },
  {
   "cell_type": "code",
   "execution_count": 206,
   "id": "c9fc75e9",
   "metadata": {},
   "outputs": [
    {
     "name": "stdout",
     "output_type": "stream",
     "text": [
      "Functions-set: {1, 2, 3, 4, 5}\n"
     ]
    }
   ],
   "source": [
    "my_list = [1,2,3,4,5,5]\n",
    "new_list = set(my_list)\n",
    "print('Functions-set:',new_list)"
   ]
  },
  {
   "cell_type": "markdown",
   "id": "8c6d6a0c",
   "metadata": {},
   "source": [
    "`len()`"
   ]
  },
  {
   "cell_type": "code",
   "execution_count": 207,
   "id": "bba11b92",
   "metadata": {},
   "outputs": [
    {
     "name": "stdout",
     "output_type": "stream",
     "text": [
      "Methods-Len: 6\n"
     ]
    }
   ],
   "source": [
    "print('Methods-Len:',len(my_set))"
   ]
  },
  {
   "cell_type": "markdown",
   "id": "f3703235",
   "metadata": {},
   "source": [
    "`list()`"
   ]
  },
  {
   "cell_type": "code",
   "execution_count": 208,
   "id": "14d16f50",
   "metadata": {},
   "outputs": [
    {
     "name": "stdout",
     "output_type": "stream",
     "text": [
      "Methods-List: [1, 2, 3, 4, 5, 100]\n"
     ]
    }
   ],
   "source": [
    "print('Methods-List:',list(my_set))"
   ]
  },
  {
   "cell_type": "markdown",
   "id": "90698d4b",
   "metadata": {},
   "source": [
    "### Set Methods"
   ]
  },
  {
   "cell_type": "markdown",
   "id": "f783f458",
   "metadata": {},
   "source": [
    "* https://www.w3schools.com/python/python_ref_set.asp"
   ]
  },
  {
   "cell_type": "markdown",
   "id": "8ec61aef",
   "metadata": {},
   "source": [
    "`clear()`"
   ]
  },
  {
   "cell_type": "code",
   "execution_count": 209,
   "id": "b2d84858",
   "metadata": {},
   "outputs": [
    {
     "name": "stdout",
     "output_type": "stream",
     "text": [
      "Functions-clear: set()\n"
     ]
    }
   ],
   "source": [
    "my_set.clear()\n",
    "print('Functions-clear:',my_set)"
   ]
  },
  {
   "cell_type": "markdown",
   "id": "07a4035a",
   "metadata": {},
   "source": [
    "`issubset()`"
   ]
  },
  {
   "cell_type": "code",
   "execution_count": 212,
   "id": "f445c8ff",
   "metadata": {},
   "outputs": [
    {
     "name": "stdout",
     "output_type": "stream",
     "text": [
      "Methods-issubset: True\n"
     ]
    }
   ],
   "source": [
    "my_set = {4,5}\n",
    "your_set = {4,5,6,7,8,9,10}\n",
    "print('Methods-issubset:',my_set.issubset(your_set))"
   ]
  },
  {
   "cell_type": "markdown",
   "id": "806081af",
   "metadata": {},
   "source": [
    "`issuperset()`"
   ]
  },
  {
   "cell_type": "code",
   "execution_count": 213,
   "id": "966861b5",
   "metadata": {},
   "outputs": [
    {
     "name": "stdout",
     "output_type": "stream",
     "text": [
      "Methods-issuperset: True\n"
     ]
    }
   ],
   "source": [
    "print('Methods-issuperset:',your_set.issuperset(my_set))"
   ]
  },
  {
   "cell_type": "markdown",
   "id": "085d5028",
   "metadata": {},
   "source": [
    "## Conditional"
   ]
  },
  {
   "cell_type": "markdown",
   "id": "fd8a52c6",
   "metadata": {},
   "source": [
    "`\n",
    "if 1st condition:\n",
    "    #code\n",
    "elif 2nd condition:\n",
    "    #code\n",
    "else:\n",
    "    #code\n",
    "`"
   ]
  },
  {
   "cell_type": "code",
   "execution_count": 215,
   "id": "313a831e",
   "metadata": {},
   "outputs": [
    {
     "name": "stdout",
     "output_type": "stream",
     "text": [
      "you are old enough to drive!\n",
      "ok, officer!\n",
      "you are old enough and you are a dad!\n",
      "yes, sir!\n"
     ]
    }
   ],
   "source": [
    "is_old = True\n",
    "is_licenced = False\n",
    "is_dad = True\n",
    "if is_old: \n",
    "    print('you are old enough to drive!')\n",
    "elif is_licenced:\n",
    "    print('you can drive now!')\n",
    "else: \n",
    "    print('you are not of age!')\n",
    "print('ok, officer!')\n",
    "\n"
   ]
  },
  {
   "cell_type": "markdown",
   "id": "85ae640d",
   "metadata": {},
   "source": [
    "`\n",
    "if 1st condition and 2nd condition:\n",
    "    #code\n",
    "elif 3rd condition and 4th condition:\n",
    "    #code\n",
    "else:\n",
    "    #code\n",
    "`"
   ]
  },
  {
   "cell_type": "code",
   "execution_count": 221,
   "id": "d3dc2208",
   "metadata": {},
   "outputs": [
    {
     "name": "stdout",
     "output_type": "stream",
     "text": [
      "you are old enough and you are a dad!\n",
      "yes, sir!\n"
     ]
    }
   ],
   "source": [
    "if is_licenced and is_dad:\n",
    "    print('you have a licence and you are a dad!')\n",
    "elif is_old and is_dad:\n",
    "    print('you are old enough and you are a dad!')\n",
    "else:\n",
    "    print ('you are not qualified')\n",
    "print('yes, sir!')"
   ]
  },
  {
   "cell_type": "markdown",
   "id": "2d351f6c",
   "metadata": {},
   "source": [
    "### Ternary Operators"
   ]
  },
  {
   "cell_type": "markdown",
   "id": "2ffa2551",
   "metadata": {},
   "source": [
    "`condition_if_true if condition else condition_if_false`"
   ]
  },
  {
   "cell_type": "code",
   "execution_count": 222,
   "id": "a955baec",
   "metadata": {},
   "outputs": [
    {
     "name": "stdout",
     "output_type": "stream",
     "text": [
      "message allowed\n",
      "not allowed to be matched\n"
     ]
    }
   ],
   "source": [
    "is_friend = True\n",
    "is_single = False\n",
    "is_weird = False\n",
    "can_message = \"message allowed\" if is_friend else \"not allowed to message\"\n",
    "print(can_message)\n",
    "can_match = \"matches allowed\" if is_single else \"not allowed to be matched\"\n",
    "print(can_match)"
   ]
  },
  {
   "cell_type": "markdown",
   "id": "4e38d5e3",
   "metadata": {},
   "source": [
    "### Logical Operators"
   ]
  },
  {
   "cell_type": "markdown",
   "id": "688e6a93",
   "metadata": {},
   "source": [
    "* <, >, <=, >=, !=, ==, and, or, not"
   ]
  },
  {
   "cell_type": "code",
   "execution_count": 223,
   "id": "030eb48d",
   "metadata": {},
   "outputs": [
    {
     "name": "stdout",
     "output_type": "stream",
     "text": [
      "you are perfect!\n",
      "False\n",
      "True\n",
      "True\n",
      "False\n",
      "False\n",
      "False\n",
      "True\n"
     ]
    }
   ],
   "source": [
    "if is_friend and is_single or is_weird:\n",
    "    print('you are allowed!')\n",
    "elif is_friend and not is_single:\n",
    "    print('you are perfect!')\n",
    "elif not is_friend:\n",
    "    print('wala')\n",
    "print(4 > 5)\n",
    "print(1 < 2 < 3 < 4 < 5)\n",
    "print(5 == 5)\n",
    "print(0 != 0)\n",
    "print(not(True))\n",
    "print(not(4 == 4))\n",
    "print(not(False))"
   ]
  },
  {
   "cell_type": "markdown",
   "id": "e01e2f2e",
   "metadata": {},
   "source": [
    "### is V.S. =="
   ]
  },
  {
   "cell_type": "markdown",
   "id": "293ae09e",
   "metadata": {},
   "source": [
    "`==`"
   ]
  },
  {
   "cell_type": "markdown",
   "id": "a4976a14",
   "metadata": {},
   "source": [
    "* Shows the equality of value\n",
    "* Checks the type of value"
   ]
  },
  {
   "cell_type": "code",
   "execution_count": 224,
   "id": "1bc80a6d",
   "metadata": {},
   "outputs": [
    {
     "name": "stdout",
     "output_type": "stream",
     "text": [
      "True\n",
      "False\n",
      "False\n",
      "True\n",
      "True\n"
     ]
    }
   ],
   "source": [
    "print(True == 1)\n",
    "print('' == 1)\n",
    "print([] == 1)\n",
    "print(10 == 10.0)\n",
    "print([] == [])"
   ]
  },
  {
   "cell_type": "markdown",
   "id": "95f2c4be",
   "metadata": {},
   "source": [
    "`is`"
   ]
  },
  {
   "cell_type": "markdown",
   "id": "2d6aeb52",
   "metadata": {},
   "source": [
    "* Checks the location in memory where the value is stored is the same\n",
    "* NOTE: new lists, dictionaries, sets, tuples won't be stored in the same location"
   ]
  },
  {
   "cell_type": "code",
   "execution_count": 225,
   "id": "242cd528",
   "metadata": {},
   "outputs": [
    {
     "name": "stdout",
     "output_type": "stream",
     "text": [
      "False\n",
      "False\n",
      "False\n",
      "False\n",
      "False\n",
      "False\n",
      "True\n"
     ]
    },
    {
     "name": "stderr",
     "output_type": "stream",
     "text": [
      "<>:1: SyntaxWarning: \"is\" with a literal. Did you mean \"==\"?\n",
      "<>:2: SyntaxWarning: \"is\" with a literal. Did you mean \"==\"?\n",
      "<>:3: SyntaxWarning: \"is\" with a literal. Did you mean \"==\"?\n",
      "<>:4: SyntaxWarning: \"is\" with a literal. Did you mean \"==\"?\n",
      "<>:1: SyntaxWarning: \"is\" with a literal. Did you mean \"==\"?\n",
      "<>:2: SyntaxWarning: \"is\" with a literal. Did you mean \"==\"?\n",
      "<>:3: SyntaxWarning: \"is\" with a literal. Did you mean \"==\"?\n",
      "<>:4: SyntaxWarning: \"is\" with a literal. Did you mean \"==\"?\n",
      "C:\\Users\\hisup\\AppData\\Local\\Temp\\ipykernel_14664\\3644828664.py:1: SyntaxWarning: \"is\" with a literal. Did you mean \"==\"?\n",
      "  print(True is 1)\n",
      "C:\\Users\\hisup\\AppData\\Local\\Temp\\ipykernel_14664\\3644828664.py:2: SyntaxWarning: \"is\" with a literal. Did you mean \"==\"?\n",
      "  print('' is 1)\n",
      "C:\\Users\\hisup\\AppData\\Local\\Temp\\ipykernel_14664\\3644828664.py:3: SyntaxWarning: \"is\" with a literal. Did you mean \"==\"?\n",
      "  print([] is 1)\n",
      "C:\\Users\\hisup\\AppData\\Local\\Temp\\ipykernel_14664\\3644828664.py:4: SyntaxWarning: \"is\" with a literal. Did you mean \"==\"?\n",
      "  print(10 is 10.0)\n"
     ]
    }
   ],
   "source": [
    "print(True is 1)\n",
    "print('' is 1)\n",
    "print([] is 1)\n",
    "print(10 is 10.0)\n",
    "print([] is [])\n",
    "a = [1,2,3]\n",
    "b = [1,2,3]\n",
    "print(a is b)\n",
    "print(a == b)"
   ]
  },
  {
   "cell_type": "markdown",
   "id": "5fe76c81",
   "metadata": {},
   "source": [
    "## For Loops"
   ]
  },
  {
   "cell_type": "markdown",
   "id": "fc88b085",
   "metadata": {},
   "source": [
    "`for valuable in iterables(string / list / dictionary / set / tuple)`"
   ]
  },
  {
   "cell_type": "code",
   "execution_count": 45,
   "id": "46dd3c74",
   "metadata": {},
   "outputs": [
    {
     "name": "stdout",
     "output_type": "stream",
     "text": [
      "Z\n",
      "e\n",
      "r\n",
      "o\n",
      "1\n",
      "2\n",
      "1\n",
      "1\n",
      "2\n",
      "2\n",
      "1 a\n",
      "1 b\n",
      "1 c\n",
      "2 a\n",
      "2 b\n",
      "2 c\n",
      "3 a\n",
      "3 b\n",
      "3 c\n"
     ]
    }
   ],
   "source": [
    "for item in 'Zero':\n",
    "    print(item)\n",
    "for each_item in [1,2]:\n",
    "    print(each_item)\n",
    "for each_item in (1,2):\n",
    "    print(each_item)\n",
    "    print(each_item)\n",
    "for new_item in (1,2,3):\n",
    "    for x in ['a','b','c']:\n",
    "        print(new_item, x)"
   ]
  },
  {
   "cell_type": "markdown",
   "id": "e9007a5b",
   "metadata": {},
   "source": [
    "### Iterable"
   ]
  },
  {
   "cell_type": "markdown",
   "id": "c673d348",
   "metadata": {},
   "source": [
    "* Common iterable - list, dictionary, tuple, set, string\n",
    "* It is an object that can be used in a for loop or passed to a function that expects an iterable\n",
    "* It can be iterated -> one by one to check each item in the collection"
   ]
  },
  {
   "cell_type": "code",
   "execution_count": 43,
   "id": "e52a7aa2",
   "metadata": {},
   "outputs": [
    {
     "name": "stdout",
     "output_type": "stream",
     "text": [
      "('name', 'Golem')\n",
      "('age', 5006)\n",
      "('can_swim', False)\n",
      "Golem\n",
      "5006\n",
      "False\n",
      "name\n",
      "age\n",
      "can_swim\n",
      "Golem\n",
      "5006\n",
      "False\n"
     ]
    }
   ],
   "source": [
    "user = {\n",
    "    'name': 'Golem',\n",
    "    'age':5006,\n",
    "    'can_swim': False\n",
    "}\n",
    "    # items() / values() / keys()\n",
    "for item in user.items():\n",
    "    print(item)\n",
    "for item in user.values():\n",
    "    print(item)\n",
    "for item in user.keys():\n",
    "    print(item)\n",
    "for key, value in user.items():\n",
    "    print(value)"
   ]
  },
  {
   "cell_type": "markdown",
   "id": "62f64b4e",
   "metadata": {},
   "source": [
    "### Loops functions"
   ]
  },
  {
   "cell_type": "markdown",
   "id": "41042c46",
   "metadata": {},
   "source": [
    "` range(start, stop, stepover)`"
   ]
  },
  {
   "cell_type": "code",
   "execution_count": 44,
   "id": "1d2c6de6",
   "metadata": {},
   "outputs": [
    {
     "name": "stdout",
     "output_type": "stream",
     "text": [
      "0\n",
      "1\n",
      "2\n",
      "3\n",
      "4\n",
      "5\n",
      "0\n",
      "2\n",
      "4\n",
      "10\n",
      "9\n",
      "8\n",
      "7\n",
      "6\n",
      "5\n",
      "4\n",
      "3\n",
      "2\n",
      "1\n",
      "[0, 1, 2, 3, 4]\n",
      "[0, 1, 2, 3, 4]\n"
     ]
    }
   ],
   "source": [
    "for _ in range(0, 6):\n",
    "    print(_)\n",
    "for _ in range(0, 6, 2):\n",
    "    print(_)\n",
    "for _ in range(10, 0, -1):\n",
    "    print(_)\n",
    "for _ in range(2):\n",
    "    print(list(range(5)))"
   ]
  },
  {
   "cell_type": "markdown",
   "id": "26eab167",
   "metadata": {},
   "source": [
    "`enumerate(iterables) `"
   ]
  },
  {
   "cell_type": "code",
   "execution_count": 46,
   "id": "0231a3be",
   "metadata": {},
   "outputs": [
    {
     "name": "stdout",
     "output_type": "stream",
     "text": [
      "0 h\n",
      "1 e\n",
      "2 l\n",
      "3 l\n",
      "4 o\n",
      "0 1\n",
      "1 2\n",
      "2 3\n",
      "0 1\n",
      "1 2\n",
      "2 3\n",
      "index of 50 is: 50\n"
     ]
    }
   ],
   "source": [
    "for i, char in enumerate('hello'):\n",
    "    print(i, char)\n",
    "for i, char in enumerate([1,2,3]):\n",
    "    print(i, char)\n",
    "for i, char in enumerate((1,2,3)):\n",
    "    print(i, char)\n",
    "for i, char in enumerate(list(range(100))):\n",
    "    if char == 50:\n",
    "        print(f'index of 50 is: {i}')"
   ]
  },
  {
   "cell_type": "markdown",
   "id": "387a904a",
   "metadata": {},
   "source": [
    "## While Loops"
   ]
  },
  {
   "cell_type": "markdown",
   "id": "a8927252",
   "metadata": {},
   "source": [
    "* It will loop forever, to stop the loop, using **break** or turn the condition to false"
   ]
  },
  {
   "cell_type": "markdown",
   "id": "80e7bd1d",
   "metadata": {},
   "source": [
    "` while condition `"
   ]
  },
  {
   "cell_type": "code",
   "execution_count": 53,
   "id": "5b721a6d",
   "metadata": {},
   "outputs": [
    {
     "name": "stdout",
     "output_type": "stream",
     "text": [
      "0\n"
     ]
    },
    {
     "ename": "SyntaxError",
     "evalue": "'break' outside loop (823145011.py, line 11)",
     "output_type": "error",
     "traceback": [
      "\u001b[1;36m  File \u001b[1;32m\"C:\\Users\\hisup\\AppData\\Local\\Temp\\ipykernel_14996\\823145011.py\"\u001b[1;36m, line \u001b[1;32m11\u001b[0m\n\u001b[1;33m    break\u001b[0m\n\u001b[1;37m    ^\u001b[0m\n\u001b[1;31mSyntaxError\u001b[0m\u001b[1;31m:\u001b[0m 'break' outside loop\n"
     ]
    }
   ],
   "source": [
    "i = 0\n",
    "while 0 < 5:\n",
    "    print(i)\n",
    "    break\n",
    "    \n",
    "while i < 5:\n",
    "    print(i)\n",
    "    i += 1 \n",
    "else: \n",
    "    print('done with all the work')\n",
    "    break"
   ]
  },
  {
   "cell_type": "markdown",
   "id": "824b81d0",
   "metadata": {},
   "source": [
    "### break / continue / pass"
   ]
  },
  {
   "cell_type": "markdown",
   "id": "e6a837a0",
   "metadata": {},
   "source": [
    "* break: stop the loop"
   ]
  },
  {
   "cell_type": "code",
   "execution_count": 49,
   "id": "80d5c44e",
   "metadata": {},
   "outputs": [
    {
     "name": "stdout",
     "output_type": "stream",
     "text": [
      "5\n"
     ]
    }
   ],
   "source": [
    "while 0 < 5:\n",
    "    print(i)\n",
    "    break"
   ]
  },
  {
   "cell_type": "markdown",
   "id": "019b3acf",
   "metadata": {},
   "source": [
    "* continue: return the loop"
   ]
  },
  {
   "cell_type": "code",
   "execution_count": 50,
   "id": "e82c31b1",
   "metadata": {},
   "outputs": [
    {
     "ename": "KeyboardInterrupt",
     "evalue": "",
     "output_type": "error",
     "traceback": [
      "\u001b[1;31m---------------------------------------------------------------------------\u001b[0m",
      "\u001b[1;31mKeyboardInterrupt\u001b[0m                         Traceback (most recent call last)",
      "\u001b[1;32m~\\AppData\\Local\\Temp\\ipykernel_14996\\4224565468.py\u001b[0m in \u001b[0;36m<module>\u001b[1;34m\u001b[0m\n\u001b[0;32m      1\u001b[0m \u001b[1;32mwhile\u001b[0m \u001b[1;36m0\u001b[0m \u001b[1;33m<\u001b[0m \u001b[1;36m5\u001b[0m\u001b[1;33m:\u001b[0m\u001b[1;33m\u001b[0m\u001b[1;33m\u001b[0m\u001b[0m\n\u001b[1;32m----> 2\u001b[1;33m     \u001b[1;32mcontinue\u001b[0m\u001b[1;33m\u001b[0m\u001b[1;33m\u001b[0m\u001b[0m\n\u001b[0m\u001b[0;32m      3\u001b[0m     \u001b[0mprint\u001b[0m\u001b[1;33m(\u001b[0m\u001b[0mi\u001b[0m\u001b[1;33m)\u001b[0m\u001b[1;33m\u001b[0m\u001b[1;33m\u001b[0m\u001b[0m\n",
      "\u001b[1;31mKeyboardInterrupt\u001b[0m: "
     ]
    }
   ],
   "source": [
    "while 0 < 5:\n",
    "    continue\n",
    "    print(i)"
   ]
  },
  {
   "cell_type": "markdown",
   "id": "965f79a3",
   "metadata": {},
   "source": [
    "* pass: rarely use it"
   ]
  },
  {
   "cell_type": "code",
   "execution_count": 54,
   "id": "81436b99",
   "metadata": {},
   "outputs": [],
   "source": [
    "for item in my_list:\n",
    "    pass"
   ]
  },
  {
   "cell_type": "markdown",
   "id": "23c72545",
   "metadata": {},
   "source": [
    "### For loops V.S. While loops"
   ]
  },
  {
   "cell_type": "markdown",
   "id": "40e2d6be",
   "metadata": {},
   "source": [
    "* Use **for loops** when you want to keep it simple or for iterating or iterable objects\n",
    "* Use **while loops** when you don't know how long it will take "
   ]
  },
  {
   "cell_type": "code",
   "execution_count": 47,
   "id": "7090845b",
   "metadata": {},
   "outputs": [
    {
     "name": "stdout",
     "output_type": "stream",
     "text": [
      "1\n",
      "2\n",
      "3\n",
      "1\n",
      "2\n",
      "3\n",
      "say something: ds\n",
      "say something: bye\n"
     ]
    }
   ],
   "source": [
    "my_list = [1,2,3]\n",
    "for item in my_list:\n",
    "    print(item)\n",
    "\n",
    "i = 0\n",
    "while i < len(my_list):\n",
    "    print(my_list[i])\n",
    "    i += 1\n",
    "while True:\n",
    "    response = input('say something: ')\n",
    "    if (response == 'bye'):\n",
    "        break"
   ]
  },
  {
   "cell_type": "markdown",
   "id": "1d1308a9",
   "metadata": {},
   "source": [
    "## Functions"
   ]
  },
  {
   "cell_type": "markdown",
   "id": "0510513b",
   "metadata": {},
   "source": [
    "* either modify something or return something\n",
    "* should do one thing really well\n",
    "* should return something"
   ]
  },
  {
   "cell_type": "markdown",
   "id": "118ffc31",
   "metadata": {},
   "source": [
    "`def`\n",
    "* create your own function"
   ]
  },
  {
   "cell_type": "code",
   "execution_count": 50,
   "id": "6191df7e",
   "metadata": {},
   "outputs": [
    {
     "name": "stdout",
     "output_type": "stream",
     "text": [
      "hello\n",
      "<function say_hello at 0x000001E001E680D0>\n"
     ]
    }
   ],
   "source": [
    "def say_hello():\n",
    "    print('hello')\n",
    "say_hello() \n",
    "print(say_hello)"
   ]
  },
  {
   "cell_type": "markdown",
   "id": "021758a1",
   "metadata": {},
   "source": [
    "`parameters(define)`\n",
    "* add the variables to the function and define the function"
   ]
  },
  {
   "cell_type": "code",
   "execution_count": 51,
   "id": "e249c733",
   "metadata": {},
   "outputs": [],
   "source": [
    "def greeting(name, message):\n",
    "    print(f'hi! {name}, {message}')"
   ]
  },
  {
   "cell_type": "markdown",
   "id": "0663fa36",
   "metadata": {},
   "source": [
    "`arguments(call, invoke)`\n",
    "* actual value we provided to the function"
   ]
  },
  {
   "cell_type": "code",
   "execution_count": 52,
   "id": "0fef7791",
   "metadata": {},
   "outputs": [
    {
     "name": "stdout",
     "output_type": "stream",
     "text": [
      "hi! Joyce, how's your day?\n",
      "hi! Andrew, you look happy!\n"
     ]
    }
   ],
   "source": [
    "greeting('Joyce', f'how\\'s your day?')\n",
    "greeting('Andrew', f'you look happy!')"
   ]
  },
  {
   "cell_type": "markdown",
   "id": "4e46cfa3",
   "metadata": {},
   "source": [
    "` positional parameters / positional arguments ` \n",
    "* the position matters  "
   ]
  },
  {
   "cell_type": "code",
   "execution_count": 53,
   "id": "343a7f26",
   "metadata": {
    "scrolled": true
   },
   "outputs": [
    {
     "name": "stdout",
     "output_type": "stream",
     "text": [
      "hi! Andrew, you look happy!\n"
     ]
    }
   ],
   "source": [
    "greeting('Andrew', f'you look happy!')"
   ]
  },
  {
   "cell_type": "markdown",
   "id": "1244b602",
   "metadata": {},
   "source": [
    "` keyword arguments (Not Recommended)`\n",
    "* the position doesn't matter"
   ]
  },
  {
   "cell_type": "code",
   "execution_count": 54,
   "id": "a1ab62da",
   "metadata": {},
   "outputs": [
    {
     "name": "stdout",
     "output_type": "stream",
     "text": [
      "hi! Andrew, you look happy!\n"
     ]
    }
   ],
   "source": [
    "greeting(message = f'you look happy!', name = 'Andrew')"
   ]
  },
  {
   "cell_type": "markdown",
   "id": "3e7b3f6f",
   "metadata": {},
   "source": [
    "` Default Parameters` \n",
    "* predefined the value of the variables"
   ]
  },
  {
   "cell_type": "code",
   "execution_count": 55,
   "id": "cac729ce",
   "metadata": {},
   "outputs": [
    {
     "name": "stdout",
     "output_type": "stream",
     "text": [
      "hi! Amy, what's up?\n",
      "hi! Tammy, what's up?\n"
     ]
    }
   ],
   "source": [
    "def greeting(name='Amy', message= f'what\\'s up?'):\n",
    "    print(f'hi! {name}, {message}')\n",
    "greeting()\n",
    "greeting('Tammy')"
   ]
  },
  {
   "cell_type": "markdown",
   "id": "f75f5320",
   "metadata": {},
   "source": [
    "` RETURN `\n",
    "* once it return something from a function, it exits that function"
   ]
  },
  {
   "cell_type": "code",
   "execution_count": 56,
   "id": "2d942bd0",
   "metadata": {},
   "outputs": [
    {
     "name": "stdout",
     "output_type": "stream",
     "text": [
      "None\n",
      "15\n",
      "20\n",
      "30\n"
     ]
    }
   ],
   "source": [
    "def no_return_sum(num1, num2):\n",
    "    num1 + num2\n",
    "print(no_return_sum(5,10))\n",
    "\n",
    "def return_sum(num1, num2):\n",
    "    return num1 + num2\n",
    "print(return_sum(5,10))\n",
    "total = return_sum(5,10)\n",
    "print(return_sum(5,total))\n",
    "\n",
    "def total(num1, num2):\n",
    "    def another_func(n1, n2):\n",
    "        return n1 + n2\n",
    "    return another_func(num1, num2)\n",
    "    return 5\n",
    "    print('hello')\n",
    "total = total(10, 20)\n",
    "print(total)"
   ]
  },
  {
   "cell_type": "code",
   "execution_count": 49,
   "id": "6559c24e",
   "metadata": {
    "scrolled": false
   },
   "outputs": [
    {
     "name": "stdout",
     "output_type": "stream",
     "text": [
      "hello\n",
      "<function say_hello at 0x000001E001E68940>\n",
      "hi! Joyce, how's your day?\n",
      "hi! Andrew, you look happy!\n",
      "hi! Andrew, you look happy!\n",
      "hi! Andrew, you look happy!\n",
      "hi! Amy, what's up?\n",
      "hi! Tammy, what's up?\n",
      "None\n",
      "15\n",
      "20\n",
      "30\n",
      "Help on function test in module __main__:\n",
      "\n",
      "test(a)\n",
      "    Info: this function tests and prints param a\n",
      "\n",
      "\n",
      "    Info: this function tests and prints param a\n",
      "    \n",
      "True\n",
      "False\n",
      "1 2 3 4 5\n",
      "(1, 2, 3, 4, 5)\n",
      "{'first_num': 5, 'sec_num': 10}\n",
      "30\n"
     ]
    }
   ],
   "source": [
    "    # METHODS vs FUNCTIONS\n",
    "    # Methods vs Functions\n",
    "    # both allow us to take action to do something\n",
    "    \n",
    "    # METHODS\n",
    "    # 1. have to be owned by something\n",
    "    # 2. start with '.'\n",
    "\n",
    "    # FUNCTIONS\n",
    "    # 1. can be called directly\n",
    "    \n",
    "    # FUNCTIONS - Docstrings\n",
    "    # 1. comment inside of functions -> for other user to understand the info of the function\n",
    "def test(a):\n",
    "    '''\n",
    "    Info: this function tests and prints param a\n",
    "    '''\n",
    "    print(a)\n",
    "        \n",
    "    # 2. to see the info of the function, use 'help() or .__doc__'\n",
    "help(test) \n",
    "print(test.__doc__)\n",
    "\n",
    "    # CLEAN CODE\n",
    "def is_even(num):\n",
    "    if num % 2 == 0:\n",
    "        return True\n",
    "    elif num % 2 != 0:\n",
    "        return False\n",
    "print(is_even(50))\n",
    "\n",
    "def is_even_clean_code(num):\n",
    "    return num % 2 == 0\n",
    "print(is_even_clean_code(51))\n",
    "    \n",
    "    # *args:return tuple \n",
    "    # **kwargs:return dictionary\n",
    "    # Rule: function(params, *args, default parameters, **kwargs)\n",
    "def super_func(name, *args, i='hi', **kwargs):\n",
    "    print(*args)\n",
    "    print(args)\n",
    "    print(kwargs)\n",
    "    total = 0\n",
    "    for item in kwargs.values():\n",
    "        total += item\n",
    "    return sum(args) + total\n",
    "print(super_func('Andy', 1,2,3,4,5, first_num = 5, sec_num = 10))"
   ]
  },
  {
   "cell_type": "markdown",
   "id": "719b88fd",
   "metadata": {},
   "source": [
    "## Walrus Operator"
   ]
  },
  {
   "cell_type": "markdown",
   "id": "ab0a983a",
   "metadata": {},
   "source": [
    "* :=\n",
    "* assigns values to variables as part of a larger expression"
   ]
  },
  {
   "cell_type": "code",
   "execution_count": 48,
   "id": "3027832f",
   "metadata": {},
   "outputs": [
    {
     "name": "stdout",
     "output_type": "stream",
     "text": [
      "Walrus Operator_if: too long 15 elements\n",
      "Walrus Operator_while: 15\n",
      "Walrus Operator_while: 14\n",
      "Walrus Operator_while: 13\n",
      "Walrus Operator_while: 12\n",
      "Walrus Operator_while: 11\n",
      "Walrus Operator_while: 10\n",
      "Walrus Operator_while: 9\n",
      "Walrus Operator_while: 8\n",
      "Walrus Operator_while: 7\n",
      "Walrus Operator_while: 6\n",
      "Walrus Operator_while: 5\n",
      "Walrus Operator_while: 4\n",
      "Walrus Operator_while: 3\n",
      "Walrus Operator_while: 2\n",
      "Walrus Operator: h\n"
     ]
    }
   ],
   "source": [
    "a_walrus_operator = 'hellllooooooooo'\n",
    "if ((n := len(a_walrus_operator)) > 10):\n",
    "    print('Walrus Operator_if:', f'too long {n} elements')\n",
    "    \n",
    "while ((n:= len(a_walrus_operator)) > 1):\n",
    "    print('Walrus Operator_while:',n)\n",
    "    a_walrus_operator = a_walrus_operator[:-1]\n",
    "    \n",
    "print('Walrus Operator:',a_walrus_operator)"
   ]
  },
  {
   "cell_type": "markdown",
   "id": "93f0fc00",
   "metadata": {},
   "source": [
    "# Scope Rules"
   ]
  },
  {
   "cell_type": "markdown",
   "id": "e2493cce",
   "metadata": {},
   "source": [
    "* what variables do I have access to?\n",
    "* it won't clog up the computer's memory\n",
    "* your programs don't hog up a lot of memory and they can run efficiently"
   ]
  },
  {
   "cell_type": "code",
   "execution_count": 43,
   "id": "4d8d2ac6",
   "metadata": {},
   "outputs": [
    {
     "name": "stdout",
     "output_type": "stream",
     "text": [
      "local: 5\n",
      "local: 1\n",
      "parent_local: 10\n",
      "parent_local: 2\n",
      "global: 111\n",
      "global: 111\n",
      "python function: <built-in function sum>\n",
      "python function: 111\n"
     ]
    }
   ],
   "source": [
    "# start with local\n",
    "a_local = 1\n",
    "def confusion_local():\n",
    "    a = 5\n",
    "    return a\n",
    "print('local:',confusion_local())\n",
    "print('local:',a_local)\n",
    "\n",
    "# parent local\n",
    "a_parent_local = 2\n",
    "def parent_local():\n",
    "    a_parent_local = 10\n",
    "    def confusion_parent_local():\n",
    "        return a_parent_local\n",
    "    return confusion_parent_local()\n",
    "print('parent_local:',parent_local())\n",
    "print('parent_local:',a_parent_local)\n",
    "\n",
    "# global\n",
    "a_global = 111\n",
    "def parent_global():\n",
    "    def confusion_global():\n",
    "        return a_global\n",
    "    return confusion_global()\n",
    "print('global:',parent_global())\n",
    "print('global:',a_global)\n",
    "\n",
    "# built in python functions\n",
    "a_python_function = 111\n",
    "def parent_python_function():\n",
    "    def confusion_python_function():\n",
    "        return sum\n",
    "    return confusion_python_function()\n",
    "print('python function:',parent_python_function())\n",
    "print('python function:',a_python_function)"
   ]
  },
  {
   "cell_type": "markdown",
   "id": "48416d1a",
   "metadata": {},
   "source": [
    "### Keywords"
   ]
  },
  {
   "cell_type": "markdown",
   "id": "8fbebf9e",
   "metadata": {},
   "source": [
    "`global`"
   ]
  },
  {
   "cell_type": "code",
   "execution_count": 44,
   "id": "f5788b1d",
   "metadata": {},
   "outputs": [
    {
     "name": "stdout",
     "output_type": "stream",
     "text": [
      "keyword-global: 3\n"
     ]
    }
   ],
   "source": [
    "num_count = 0\n",
    "def count_total(num_count):\n",
    "#     global num_count\n",
    "    num_count += 1\n",
    "    return num_count\n",
    " \n",
    "print('keyword-global:',count_total(count_total(count_total(num_count))))"
   ]
  },
  {
   "cell_type": "markdown",
   "id": "b3399100",
   "metadata": {},
   "source": [
    "`nunlocal` \n",
    "* it will grab the variables of the parent"
   ]
  },
  {
   "cell_type": "code",
   "execution_count": 45,
   "id": "eff00431",
   "metadata": {},
   "outputs": [
    {
     "name": "stdout",
     "output_type": "stream",
     "text": [
      "inner: nunlocal\n",
      "outer: local\n",
      "inner_nonlocal: nunlocal\n",
      "outer_nonlocal: nunlocal\n"
     ]
    }
   ],
   "source": [
    "def outer():\n",
    "    yy = \"local\"\n",
    "    def inner():\n",
    "        # nonlocal yy\n",
    "        yy = \"nunlocal\"\n",
    "        print('inner:', yy)\n",
    "    inner()\n",
    "    print('outer:', yy)\n",
    "outer()\n",
    "\n",
    "def outer_nonlocal():\n",
    "    yy_nonlocal = \"local\"\n",
    "    def inner_nonlocal():\n",
    "        nonlocal yy_nonlocal\n",
    "        yy_nonlocal = \"nunlocal\"\n",
    "        print('inner_nonlocal:', yy_nonlocal)\n",
    "    inner_nonlocal()\n",
    "    print('outer_nonlocal:', yy_nonlocal)\n",
    "outer_nonlocal()"
   ]
  },
  {
   "cell_type": "markdown",
   "id": "f766dd0d",
   "metadata": {},
   "source": [
    "## Terminal Commands"
   ]
  },
  {
   "cell_type": "markdown",
   "id": "6788b0f4",
   "metadata": {},
   "source": [
    "`\n",
    "ls : list directory\n",
    "cd <directory name>: change directory\n",
    "cd / : to the root directory\n",
    "cd ~ : go back to your home folder\n",
    "cd .. : go back to the directory you were in before the last time\n",
    "start . : open the folder\n",
    "code . : open your default coding tool (before you command, please go to the project folder.)\n",
    "mkdir <directory name>: create a new directory\n",
    "rename <old_filename> <new_filename>: rename file\n",
    "del \"<filename>\" : delete file\n",
    "rmdir <directory name>: delete directory\n",
    "sudo : to permission problem, please use this\n",
    "clear : clear terminal\n",
    "`"
   ]
  },
  {
   "cell_type": "markdown",
   "id": "076adc0d",
   "metadata": {},
   "source": [
    "## OOP : Object oriented programming/language"
   ]
  },
  {
   "cell_type": "markdown",
   "id": "1bbfb861",
   "metadata": {},
   "source": [
    "` OOP part_1 `\n",
    "* In python, everything's built by class keyword\n",
    "* OP is a paradigm(model), a way for us to structure our code that we're able to be organized"
   ]
  },
  {
   "cell_type": "code",
   "execution_count": 46,
   "id": "ff6766f0",
   "metadata": {},
   "outputs": [
    {
     "name": "stdout",
     "output_type": "stream",
     "text": [
      "<class 'NoneType'>\n",
      "<class 'bool'>\n",
      "<class 'int'>\n",
      "<class 'float'>\n",
      "<class 'str'>\n",
      "<class 'list'>\n",
      "<class 'tuple'>\n",
      "<class 'dict'>\n"
     ]
    }
   ],
   "source": [
    "print(type(None))\n",
    "print(type(True))\n",
    "print(type(5))\n",
    "print(type(5.5))\n",
    "print(type('hi'))\n",
    "print(type([]))\n",
    "print(type(()))\n",
    "print(type({}))"
   ]
  },
  {
   "cell_type": "markdown",
   "id": "422fbdb1",
   "metadata": {},
   "source": [
    "` OOP part_2 `\n",
    "* when we create a class which we define with the class keyword\n",
    "* a class can be instantiated that is the action of creating different instances(objects).\n",
    "* instantiated a class = created a new instance(object)\n",
    "* history of programming languages : https://en.wikipedia.org/wiki/History_of_programming_languages\n"
   ]
  },
  {
   "cell_type": "code",
   "execution_count": 47,
   "id": "e8c67361",
   "metadata": {},
   "outputs": [
    {
     "name": "stdout",
     "output_type": "stream",
     "text": [
      "<class '__main__.MyClass'>\n"
     ]
    }
   ],
   "source": [
    "class MyClass: #Class\n",
    "    # code\n",
    "    pass\n",
    "obj1 = MyClass() #instanciate\n",
    "obj2 = MyClass() #instanciate\n",
    "obj3 = MyClass() #instanciate\n",
    "print(type(obj1))"
   ]
  },
  {
   "cell_type": "markdown",
   "id": "6266d18a",
   "metadata": {},
   "source": [
    "## Class "
   ]
  },
  {
   "cell_type": "markdown",
   "id": "c20c8b95",
   "metadata": {},
   "source": [
    "<h3>1. Create our own objects</h3>\n"
   ]
  },
  {
   "cell_type": "markdown",
   "id": "4bcb0e9e",
   "metadata": {},
   "source": [
    "* class can be used over and over and over to create our own objects"
   ]
  },
  {
   "cell_type": "code",
   "execution_count": 15,
   "id": "5f044445",
   "metadata": {},
   "outputs": [
    {
     "name": "stdout",
     "output_type": "stream",
     "text": [
      "objects:  <__main__.PlayerCharacter object at 0x000001E07FCBBF40>\n",
      "objects:  <__main__.PlayerCharacter object at 0x000001E07FCBB880>\n",
      "objects:  Tom\n",
      "objects:  Amy\n",
      "objects:  44\n",
      "objects:  56\n",
      "objects:  run\n",
      "objects:  done\n",
      "objects:  50\n",
      "Attributes & Methods:  Hey! my name is Tom!\n",
      "Attributes & Methods:  done\n",
      "Attributes & Methods:  Hey! my name is Amy!\n",
      "Attributes & Methods:  done\n",
      "init:  Hey! my name is Amy!\n",
      "init:  done\n",
      "methods:  5\n",
      "methods:  22\n"
     ]
    }
   ],
   "source": [
    "class PlayerCharacter:\n",
    "    \n",
    "    def __init__(self, name, age): # self = PlayerCharacter\n",
    "        self.name = name\n",
    "        self.age = age\n",
    "        \n",
    "    def run(self):\n",
    "        print('objects: ','run')\n",
    "        return('done')\n",
    "    \n",
    "\n",
    "player1 = PlayerCharacter('Tom', 44) # objects\n",
    "player2 = PlayerCharacter('Amy', 56) # objects\n",
    "player2.attack = 50 # objects\n",
    "\n",
    "# Players are saved in different locations\n",
    "print('objects: ',player1)\n",
    "print('objects: ',player2)\n",
    "print('objects: ',player1.name)\n",
    "print('objects: ',player2.name)\n",
    "print('objects: ',player1.age)\n",
    "print('objects: ',player2.age)\n",
    "print('objects: ',player1.run())\n",
    "print('objects: ',player2.attack)"
   ]
  },
  {
   "cell_type": "markdown",
   "id": "233c4a9a",
   "metadata": {},
   "source": [
    "<h3> 2. Attributes (static / dynamic) & Methods </h3> "
   ]
  },
  {
   "cell_type": "code",
   "execution_count": null,
   "id": "49cdefbc",
   "metadata": {},
   "outputs": [],
   "source": [
    "class PlayerCharacter_AM:\n",
    "    \n",
    "    membership = True # class object attribute (static)\n",
    "    \n",
    "    def __init__(self, name, age):\n",
    "        if (self.membership): # PlayerCharacter_AM.membership will work too\n",
    "            self.name = name # attributes (dynamic)\n",
    "            self.age = age\n",
    "        \n",
    "    def run(self): # methods\n",
    "        print('run')\n",
    "        return('done')\n",
    "    \n",
    "    def shout(self): # methods\n",
    "        print('Attributes & Methods: ',f'Hey! my name is {self.name}!')\n",
    "        return('done')\n",
    "    \n",
    "player1_AM = PlayerCharacter_AM('Tom', 44) \n",
    "player2_AM = PlayerCharacter_AM('Amy', 56) \n",
    "\n",
    "print('Attributes & Methods: ',player1_AM.shout())\n",
    "print('Attributes & Methods: ',player2_AM.shout())"
   ]
  },
  {
   "cell_type": "markdown",
   "id": "691d16e2",
   "metadata": {},
   "source": [
    "<h3>3. __init__</h3>"
   ]
  },
  {
   "cell_type": "markdown",
   "id": "5992d366",
   "metadata": {},
   "source": [
    "* it will give you a lot of control"
   ]
  },
  {
   "cell_type": "code",
   "execution_count": null,
   "id": "5cd0690e",
   "metadata": {},
   "outputs": [],
   "source": [
    "class PlayerCharacter_init:\n",
    "    \n",
    "    def __init__(self, name = 'anonymous', age = 0):\n",
    "        if (age > 18):\n",
    "            self.name = name\n",
    "            self.age = age\n",
    "        \n",
    "    def run(self):\n",
    "        print('run')\n",
    "        return('done')\n",
    "    \n",
    "    def shout(self):\n",
    "        print('init: ',f'Hey! my name is {self.name}!')\n",
    "        return('done')\n",
    "    \n",
    "player1_init = PlayerCharacter_init('Tom', 10) \n",
    "player2_init = PlayerCharacter_init('Amy', 20)\n",
    "\n",
    "print('init: ', player2_init.shout())\n",
    "# print('init: ', player1_init.shout()) -> error: the age is under 18\n",
    "\n"
   ]
  },
  {
   "cell_type": "markdown",
   "id": "ec42dbec",
   "metadata": {},
   "source": [
    "<h3> 4. @classmethod & @staticmethod </h3>"
   ]
  },
  {
   "cell_type": "markdown",
   "id": "9a4c7d52",
   "metadata": {},
   "source": [
    "` classmethod `\n",
    "   * Can access limited methods in the class\n",
    "   *  Can modify class specific details\n",
    "   *  need a parameter called 'cls' which stands for 'class' (alike 'self')\n",
    "    \n",
    "` staticmethod `\n",
    "   *  Cannot access anything else in the class\n",
    "   *  Totally self-contained code (don't have to use 'self')"
   ]
  },
  {
   "cell_type": "code",
   "execution_count": 63,
   "id": "189d862e",
   "metadata": {},
   "outputs": [
    {
     "name": "stdout",
     "output_type": "stream",
     "text": [
      "methods:  5\n",
      "methods:  22\n"
     ]
    }
   ],
   "source": [
    "class PlayerCharacter_methods:\n",
    "    \n",
    "    def __init__(self, name = 'anonymous', age = 0):\n",
    "        if (age > 18):\n",
    "            self.name = name\n",
    "            self.age = age\n",
    "        \n",
    "    def run(self):\n",
    "        print('run')\n",
    "        return('done')\n",
    "    \n",
    "    def shout(self):\n",
    "        print('methods: ',f'Hey! my name is {self.name}!')\n",
    "        return('done')\n",
    "    \n",
    "    @classmethod\n",
    "    def adding_things(cls, num1, num2):\n",
    "        return num1 + num2\n",
    "    \n",
    "    @classmethod\n",
    "    def adding_things_class(cls, num1, num2):\n",
    "        return cls('Teddy', num1 + num2)\n",
    "    \n",
    "    @staticmethod\n",
    "    def adding_things_static(num1, num2):\n",
    "        return num1 + num2\n",
    "    \n",
    "player1_methods = PlayerCharacter_methods('Tom', 10)\n",
    "player2_methods = PlayerCharacter_methods.adding_things_class(5,17)\n",
    "\n",
    "print('methods: ',player1_methods.adding_things(2,3))\n",
    "print('methods: ',player2_methods.age)"
   ]
  },
  {
   "cell_type": "markdown",
   "id": "66ea8e9f",
   "metadata": {},
   "source": [
    "## Four pillars of OOP"
   ]
  },
  {
   "cell_type": "markdown",
   "id": "422463b4",
   "metadata": {},
   "source": [
    "` Encapsulation: `\n",
    "   * This refers to the idea of bundling data and methods that operate on that data within a single unit, or object. \n",
    "   * Encapsulation helps to reduce complexity and increase reusability by allowing developers to create self-contained, modular units of code that can be easily shared and reused.\n",
    "\n",
    "`Abstraction: `\n",
    "   * Abstraction refers to the process of exposing only the essential features of an object and hiding the implementation details. \n",
    "   * This helps to reduce the complexity of the system and makes it easier to understand and use.\n",
    "   \n",
    "\n",
    "`Inheritance: `\n",
    "   * Inheritance is the ability of a class to inherit attributes and behavior from a parent class. \n",
    "   * This allows developers to create a new class that is a modified version of an existing class, without having to rewrite the entire code.\n",
    "\n",
    "`Polymorphism: `\n",
    "   * Polymorphism is the ability of a class or object to take on multiple forms. \n",
    "   * In Python, this can be achieved through inheritance, where a subclass can override or extend the methods of its parent class, or through the use of function or method overloading, where different methods have the same     name but different signatures."
   ]
  },
  {
   "cell_type": "markdown",
   "id": "360ae51a",
   "metadata": {},
   "source": [
    "### Encapsulation"
   ]
  },
  {
   "cell_type": "markdown",
   "id": "eae1e095",
   "metadata": {},
   "source": [
    "* use '__' to let other developers know it is a private attribute"
   ]
  },
  {
   "cell_type": "code",
   "execution_count": 62,
   "id": "355ba9ca",
   "metadata": {
    "scrolled": true
   },
   "outputs": [],
   "source": [
    "class Person:\n",
    "    def __init__(self, name, age):\n",
    "        self.__name = name  # Private attribute\n",
    "        self.__age = age  # Private attribute\n",
    "        \n",
    "    def get_name(self):  # Public method\n",
    "        return self.__name\n",
    "    \n",
    "    def get_age(self):  # Public method\n",
    "        return self.__age\n",
    "    \n",
    "    def set_name(self, name):  # Public method\n",
    "        self.__name = name\n",
    "        \n",
    "    def set_age(self, age):  # Public method\n",
    "        self.__age = age"
   ]
  },
  {
   "cell_type": "markdown",
   "id": "3c1641a7",
   "metadata": {},
   "source": [
    "### Abstraction"
   ]
  },
  {
   "cell_type": "markdown",
   "id": "95ace2ba",
   "metadata": {},
   "source": [
    "* Prevents a user from creating an object of that class\n",
    "* +compels a user to override abstract methods in a child class\n",
    "* abstract class = a class which contains one or more abstract methods\n",
    "* abstract method = a method that has a declaration but does not have an implementation"
   ]
  },
  {
   "cell_type": "code",
   "execution_count": 58,
   "id": "c8af8ddd",
   "metadata": {},
   "outputs": [
    {
     "name": "stdout",
     "output_type": "stream",
     "text": [
      "You drive the car\n",
      "You ride the motorcycle\n",
      "Your motorcycle is faster now\n",
      "This car is stopped\n",
      "This motorcycle is stopped\n"
     ]
    }
   ],
   "source": [
    "from abc import ABC, abstractmethod\n",
    "\n",
    "class Vehicle(ABC): # abstract class\n",
    "\n",
    "    # abstract method (must be added in child class)\n",
    "    @abstractmethod \n",
    "    def go(self):\n",
    "        pass\n",
    "   \n",
    "    # abstract method (must be added in child class)\n",
    "    @abstractmethod\n",
    "    def stop(self):\n",
    "        pass\n",
    "    \n",
    "    # it is an optional method for child class\n",
    "    def fast(self):\n",
    "        pass \n",
    "\n",
    "class Car(Vehicle): # child class\n",
    "\n",
    "    def go(self):\n",
    "        print(\"You drive the car\")\n",
    "\n",
    "    def stop(self):\n",
    "        print(\"This car is stopped\")\n",
    "\n",
    "class Motorcycle(Vehicle):\n",
    "\n",
    "    def go(self):\n",
    "        print(\"You ride the motorcycle\")\n",
    "\n",
    "    def fast(self):\n",
    "        print(\"Your motorcycle is faster now\")\n",
    "        \n",
    "    def stop(self):\n",
    "        print(\"This motorcycle is stopped\")\n",
    "\n",
    "\n",
    "car = Car()\n",
    "motorcycle = Motorcycle()\n",
    "\n",
    "car.go()\n",
    "motorcycle.go()\n",
    "motorcycle.fast()\n",
    "\n",
    "car.stop()\n",
    "motorcycle.stop()"
   ]
  },
  {
   "cell_type": "markdown",
   "id": "5e2ea42d",
   "metadata": {},
   "source": [
    "### Inheritance\n",
    "<img src='resources/inheritance.png' width='300px'/>"
   ]
  },
  {
   "cell_type": "markdown",
   "id": "f37bc826",
   "metadata": {},
   "source": [
    "* Allows you to create new classes that are based on existing classes\n",
    "* The subclass can also define its own attributes and methods\n",
    "* Helps to reduce the complexity of code"
   ]
  },
  {
   "cell_type": "code",
   "execution_count": 61,
   "id": "a0750b4f",
   "metadata": {},
   "outputs": [
    {
     "name": "stdout",
     "output_type": "stream",
     "text": [
      "True\n",
      "This animal is eating\n",
      "This animal is eating\n",
      "This animal is sleeping\n",
      "This hawk is flying\n"
     ]
    }
   ],
   "source": [
    "class Animal(): # superclass / existing class\n",
    "\n",
    "    alive = True\n",
    "\n",
    "    def eat(self):\n",
    "        print(\"This animal is eating\")\n",
    "\n",
    "    def sleep(self):\n",
    "        print(\"This animal is sleeping\")\n",
    "\n",
    "class Rabbit(Animal): # subclass\n",
    "    pass\n",
    "\n",
    "class Fish(Animal): # subclass\n",
    "    pass\n",
    "\n",
    "class Hawk(Animal): # subclass\n",
    "\n",
    "    def fly(self):\n",
    "        print(\"This hawk is flying\")\n",
    "\n",
    "rabbit = Rabbit()\n",
    "fish = Fish()\n",
    "hawk = Hawk()\n",
    "\n",
    "print(rabbit.alive)\n",
    "rabbit.eat()\n",
    "fish.eat()\n",
    "hawk.sleep()\n",
    "hawk.fly()"
   ]
  },
  {
   "cell_type": "markdown",
   "id": "725eb7e1",
   "metadata": {},
   "source": [
    "### Polymorphism"
   ]
  },
  {
   "cell_type": "markdown",
   "id": "ba7d432c",
   "metadata": {},
   "source": [
    "* It is implemented using inheritance, method overloading, and method overriding\n",
    "* The ability of a class or object to take on multiple forms\n",
    "* Allows code to be more flexible and reusable"
   ]
  },
  {
   "cell_type": "code",
   "execution_count": 60,
   "id": "15b68d52",
   "metadata": {},
   "outputs": [
    {
     "name": "stdout",
     "output_type": "stream",
     "text": [
      "Tom makes a generic animal sound\n",
      "Tom barks\n",
      "None\n",
      "Amy meows\n",
      "None\n"
     ]
    }
   ],
   "source": [
    "class Animal: # superclass\n",
    "    def __init__(self, name):\n",
    "        self.name = name\n",
    "        \n",
    "    def speak(self):\n",
    "        print(f\"{self.name} makes a generic animal sound\")\n",
    "        \n",
    "class Dog(Animal): # child class\n",
    "    def speak(self): # overriding the method\n",
    "        Animal.speak(self) \n",
    "        print(f\"{self.name} barks\")\n",
    "        \n",
    "class Cat(Animal): # child class\n",
    "    def speak(self): # overriding the method\n",
    "        print(f\"{self.name} meows\")\n",
    "\n",
    "dog_Tom = Dog('Tom')\n",
    "cat_Amy = Cat('Amy')\n",
    "for ani in [dog_Tom, cat_Amy]:\n",
    "    print(ani.speak())\n",
    "# print(dog_Tom)\n",
    "# print(cat_Amy)"
   ]
  },
  {
   "cell_type": "markdown",
   "id": "6b33385c",
   "metadata": {},
   "source": [
    "### Super()"
   ]
  },
  {
   "cell_type": "markdown",
   "id": "2be5de8d",
   "metadata": {},
   "source": [
    "* Allows you to refer to the superclass of a class\n",
    "* To call methods of the superclass from within the subclass"
   ]
  },
  {
   "cell_type": "code",
   "execution_count": 66,
   "id": "c87feef4",
   "metadata": {},
   "outputs": [
    {
     "name": "stdout",
     "output_type": "stream",
     "text": [
      "logged in\n",
      "None\n",
      "merlin@gmail.com\n"
     ]
    }
   ],
   "source": [
    "class User(object):\n",
    "    def __init__(self, email):\n",
    "        self.email = email\n",
    "        \n",
    "    def sign_in(self):\n",
    "        print('logged in')\n",
    "\n",
    "class Wizard(User):\n",
    "    def __init__(self, name, power, email):\n",
    "        super().__init__(email) # User.__init__(self, email)\n",
    "        self.name = name\n",
    "        self.power = power\n",
    "    def attack(self):\n",
    "        print(f'attacking with power of {self.power}')\n",
    "        \n",
    "wizard1 = Wizard('Merlin', 60, 'merlin@gmail.com')\n",
    "print(wizard1.sign_in())\n",
    "print(wizard1.email)"
   ]
  },
  {
   "cell_type": "markdown",
   "id": "507e814e",
   "metadata": {},
   "source": [
    "### Object Introspection"
   ]
  },
  {
   "cell_type": "markdown",
   "id": "e3dea977",
   "metadata": {},
   "source": [
    "* the ability to determine the type of an object at runtime\n",
    "* runtime : when the code is running, you can determine the type of an object"
   ]
  },
  {
   "cell_type": "code",
   "execution_count": 67,
   "id": "13762dec",
   "metadata": {},
   "outputs": [
    {
     "name": "stdout",
     "output_type": "stream",
     "text": [
      "['__class__', '__delattr__', '__dict__', '__dir__', '__doc__', '__eq__', '__format__', '__ge__', '__getattribute__', '__gt__', '__hash__', '__init__', '__init_subclass__', '__le__', '__lt__', '__module__', '__ne__', '__new__', '__reduce__', '__reduce_ex__', '__repr__', '__setattr__', '__sizeof__', '__str__', '__subclasshook__', '__weakref__', 'attack', 'email', 'name', 'power', 'sign_in']\n"
     ]
    }
   ],
   "source": [
    "print(dir(wizard1))"
   ]
  },
  {
   "cell_type": "markdown",
   "id": "c75542b2",
   "metadata": {},
   "source": [
    "### Dunder / Magic Methods"
   ]
  },
  {
   "cell_type": "markdown",
   "id": "f1700008",
   "metadata": {},
   "source": [
    "* https://docs.python.org/3/reference/datamodel.html#special-method-names\n"
   ]
  },
  {
   "cell_type": "code",
   "execution_count": 84,
   "id": "770de749",
   "metadata": {},
   "outputs": [
    {
     "name": "stdout",
     "output_type": "stream",
     "text": [
      "deleted!\n",
      "red\n",
      "5\n",
      "yess?\n",
      "Roy\n",
      "deleted!\n"
     ]
    }
   ],
   "source": [
    "class Toy():\n",
    "    def __init__(self, color, age):\n",
    "        self.color = color\n",
    "        self.age = age\n",
    "        self.my_dict = {\n",
    "            'name' : 'Roy',\n",
    "            'has_pet' : False\n",
    "        }\n",
    "    \n",
    "    def __str__(self):\n",
    "        return f'{self.color}'\n",
    "    \n",
    "    def __len__(self):\n",
    "        return 5\n",
    "\n",
    "    \n",
    "    def __call__(self):\n",
    "        return('yess?')\n",
    "    \n",
    "    def __getitem__(self, i):\n",
    "        return self.my_dict[i]\n",
    "    \n",
    "    def __del__(self):\n",
    "        print('deleted!')\n",
    "    \n",
    "action_figure = Toy('red', 0)\n",
    "print(action_figure.__str__())\n",
    "print(len(action_figure))\n",
    "print(action_figure())\n",
    "print(action_figure['name'])\n",
    "del action_figure"
   ]
  },
  {
   "cell_type": "markdown",
   "id": "635c82d8",
   "metadata": {},
   "source": [
    "### Multiple Inheritance"
   ]
  },
  {
   "cell_type": "markdown",
   "id": "468313f3",
   "metadata": {},
   "source": [
    "* Allows a class to inherit from multiple superclasses\n",
    "* It is one of those things where it's really powerful, but with great power comes great responsibility because it is more and more complexity\n",
    "* Some programming languages don't actually allow you to do multiple inheritance"
   ]
  },
  {
   "cell_type": "code",
   "execution_count": 101,
   "id": "2c6bae25",
   "metadata": {},
   "outputs": [
    {
     "name": "stdout",
     "output_type": "stream",
     "text": [
      "logged in\n",
      "None\n",
      "attacking with power of 50\n",
      "None\n",
      "ran really fast\n",
      "None\n",
      "logged in\n",
      "None\n",
      "attacking with power of 50\n",
      "None\n",
      "ran really fast\n",
      "None\n",
      "100 remaining\n",
      "None\n"
     ]
    }
   ],
   "source": [
    "class User():\n",
    "    def sign_in(self):\n",
    "        print('logged in')\n",
    "\n",
    "class Wizard(User):\n",
    "    def __init__(self, name, power):\n",
    "        self.name = name\n",
    "        self.power = power\n",
    "        \n",
    "    def attack(self):\n",
    "        print(f'attacking with power of {self.power}')\n",
    "        \n",
    "class Archer(User):\n",
    "    def __init__(self, name, arrows):\n",
    "        self.name = name\n",
    "        self.arrows = arrows\n",
    "    \n",
    "    def check_arrows(self):\n",
    "        print(f'{self.arrows} remaining')\n",
    "        \n",
    "    def run(self):\n",
    "        print('ran really fast')\n",
    "        \n",
    "class HybridBorg(Wizard, Archer): # inherit from multiple superclasses\n",
    "    pass\n",
    "\n",
    "class Borg(Wizard, Archer): # inherit from multiple superclasses\n",
    "    def __init__(self, name, power, arrows):\n",
    "        Wizard.__init__(self, name, power)\n",
    "        Archer.__init__(self, name, arrows)\n",
    "\n",
    "hb1 = HybridBorg('borgie', 50)\n",
    "hb2 = Borg('borgie', 50, 100)\n",
    "print(hb1.sign_in())\n",
    "print(hb1.attack())\n",
    "print(hb1.run())\n",
    "# print(hb1.check_arrows()) -> error: there's no arrows object \n",
    "\n",
    "print(hb2.sign_in())\n",
    "print(hb2.attack())\n",
    "print(hb2.run())\n",
    "print(hb2.check_arrows()) "
   ]
  },
  {
   "cell_type": "markdown",
   "id": "4ffea621",
   "metadata": {},
   "source": [
    "### MRO - Method Resolution Order"
   ]
  },
  {
   "cell_type": "markdown",
   "id": "df0623f9",
   "metadata": {},
   "source": [
    "* The order in which Python looks for a method in a hierarchy of classes. Especially it plays vital role in the context of multiple inheritance as single method may be found in multiple super classes\n",
    "* It is searched in the current class. If not found, the search moves to parent classes. This is **left-to-right, depth-first**\n",
    "* use mro() or \\_\\_mro\\_\\_\n",
    "* https://data-flair.training/blogs/python-multiple-inheritance/"
   ]
  },
  {
   "cell_type": "code",
   "execution_count": 107,
   "id": "977008cb",
   "metadata": {},
   "outputs": [
    {
     "name": "stdout",
     "output_type": "stream",
     "text": [
      "1\n",
      "[<class '__main__.D'>, <class '__main__.B'>, <class '__main__.C'>, <class '__main__.A'>, <class 'object'>]\n",
      "(<class '__main__.M'>, <class '__main__.B'>, <class '__main__.A'>, <class '__main__.X'>, <class '__main__.Y'>, <class '__main__.Z'>, <class 'object'>)\n"
     ]
    }
   ],
   "source": [
    "class A:\n",
    "    num = 10\n",
    "\n",
    "class B(A):\n",
    "    pass\n",
    "\n",
    "class C(A):\n",
    "    num = 1\n",
    "\n",
    "class D(B, C):\n",
    "    pass\n",
    "\n",
    "print(D.num)\n",
    "print(D.mro()) # The order of accessing D's num\n",
    "\n",
    "#      A\n",
    "#     / \\\n",
    "#    /   \\\n",
    "#   B     C\n",
    "#    \\   /\n",
    "#     \\ /\n",
    "#      D\n",
    "\n",
    "\n",
    "\n",
    "class X:pass\n",
    "class Y: pass\n",
    "class Z:pass\n",
    "class A(X,Y):pass\n",
    "class B(Y,Z):pass\n",
    "class M(B,A,Z):pass\n",
    "\n",
    "print(M.__mro__)"
   ]
  },
  {
   "cell_type": "markdown",
   "id": "5b5ea4d9",
   "metadata": {},
   "source": [
    "## Functional Programming"
   ]
  },
  {
   "cell_type": "markdown",
   "id": "fa2990b5",
   "metadata": {},
   "source": [
    "### Pure Function"
   ]
  },
  {
   "cell_type": "markdown",
   "id": "d845c602",
   "metadata": {},
   "source": [
    "* less bug or error in the code\n",
    "\n",
    "` Rules `\n",
    "* Same output\n",
    "* No side effects (No interact with outside world)"
   ]
  },
  {
   "cell_type": "code",
   "execution_count": 124,
   "id": "9014ce73",
   "metadata": {},
   "outputs": [
    {
     "name": "stdout",
     "output_type": "stream",
     "text": [
      "[2, 4, 6]\n"
     ]
    }
   ],
   "source": [
    "# new_list = [] --> It is bad because it can be interact with outside world \n",
    "\n",
    "def multiply_by2(li):\n",
    "    new_list = []\n",
    "    for item in li:\n",
    "        new_list.append(item*2)\n",
    "    # return print(new_list)  --> It is bad because it can be interact with outside world \n",
    "    return new_list \n",
    "\n",
    "print(multiply_by2([1,2,3]))"
   ]
  },
  {
   "cell_type": "markdown",
   "id": "4a5b852e",
   "metadata": {},
   "source": [
    "### Common functions - map, filter, zip, and reduce"
   ]
  },
  {
   "cell_type": "markdown",
   "id": "d58e47bf",
   "metadata": {},
   "source": [
    "`map(function, iterable)`\n",
    "* Takes an iterable object (such as a list, tuple, or string) and a function, and returns a new iterable object that is the result of applying the function to each element of the original iterable\n",
    "* It is particularly useful when you want to perform a simple operation on **a large dataset**"
   ]
  },
  {
   "cell_type": "code",
   "execution_count": 129,
   "id": "d999cbc4",
   "metadata": {
    "scrolled": true
   },
   "outputs": [
    {
     "name": "stdout",
     "output_type": "stream",
     "text": [
      "[2, 4, 6]\n",
      "[2, 4, 6]\n",
      "[1, 2, 3]\n"
     ]
    }
   ],
   "source": [
    "my_list = [1,2,3]\n",
    "def multiply_by2(item):\n",
    "    return item*2\n",
    "\n",
    "print(list(map(multiply_by2, [1,2,3])))\n",
    "print(list(map(multiply_by2, my_list)))\n",
    "print(my_list)"
   ]
  },
  {
   "cell_type": "markdown",
   "id": "71335839",
   "metadata": {},
   "source": [
    "`filter(function, iterable)`\n",
    "* Takes an iterable object (such as a list, tuple, or string) and a function, and returns a new iterable object that contains only the elements of the original iterable for which the function returns **True**\n",
    "* It is particularly useful when you want to filter a **large dataset based on certain conditions**"
   ]
  },
  {
   "cell_type": "code",
   "execution_count": 135,
   "id": "ca64470f",
   "metadata": {},
   "outputs": [
    {
     "name": "stdout",
     "output_type": "stream",
     "text": [
      "[1, 3, 5, 7, 9, 11, 13, 15, 17, 19, 21, 23, 25, 27, 29, 31, 33, 35, 37, 39, 41, 43, 45, 47, 49]\n",
      "[0, 1, 2, 3, 4, 5, 6, 7, 8, 9, 10, 11, 12, 13, 14, 15, 16, 17, 18, 19, 20, 21, 22, 23, 24, 25, 26, 27, 28, 29, 30, 31, 32, 33, 34, 35, 36, 37, 38, 39, 40, 41, 42, 43, 44, 45, 46, 47, 48, 49, 50]\n"
     ]
    }
   ],
   "source": [
    "long_list = list(range(0,51))\n",
    "\n",
    "def only_odd(item):\n",
    "    return item % 2 != 0 \n",
    "\n",
    "print(list(filter(only_odd, long_list)))\n",
    "print(long_list)"
   ]
  },
  {
   "cell_type": "markdown",
   "id": "71bfcb56",
   "metadata": {},
   "source": [
    "`zip(iterable1, iterable2, ...)`\n",
    "* Takes one or more iterable objects (such as lists, tuples, or strings) and returns a new iterable object that combines the elements of the original iterables into tuples\n",
    "* It is particularly useful when you have **related data** that you want to process together"
   ]
  },
  {
   "cell_type": "code",
   "execution_count": 138,
   "id": "2383cdaf",
   "metadata": {},
   "outputs": [
    {
     "name": "stdout",
     "output_type": "stream",
     "text": [
      "[('SS', 24, True), ('PP', 32, True), ('LL', 16, False)]\n",
      "['SS', 'PP', 'LL']\n",
      "(24, 32, 16)\n",
      "[True, True, False]\n"
     ]
    }
   ],
   "source": [
    "name_list = ['SS', 'PP', 'LL']\n",
    "age_list = (24, 32, 16)\n",
    "is_dog_list = [True, True, False]\n",
    "\n",
    "print(list(zip(name_list, age_list, is_dog_list)))\n",
    "print(name_list)\n",
    "print(age_list)\n",
    "print(is_dog_list)"
   ]
  },
  {
   "cell_type": "markdown",
   "id": "1059d58c",
   "metadata": {},
   "source": [
    "`reduce(function, iterable[, initial value])`\n",
    "* Performs a reduction operation on an iterable object (such as a list, tuple, or string). It applies a function to the elements of the iterable, in a way that reduces the iterable to a single value\n",
    "* It is particularly useful when you want to perform **a complex operation on a large dataset** in a concise and efficient way\n",
    "* It is not available by default in Python, and you need to import it from the **functools** module before you can use it\n",
    "* No need to use list(), it will do it for you"
   ]
  },
  {
   "cell_type": "code",
   "execution_count": 141,
   "id": "a6cb84ef",
   "metadata": {},
   "outputs": [
    {
     "name": "stdout",
     "output_type": "stream",
     "text": [
      "0 1\n",
      "1 2\n",
      "3 3\n",
      "6\n",
      "[1, 2, 3]\n"
     ]
    }
   ],
   "source": [
    "from functools import reduce \n",
    "\n",
    "acc_list = [1,2,3]\n",
    "\n",
    "def accumulator(acc, item):\n",
    "    print(acc, item)\n",
    "    return acc + item\n",
    "\n",
    "print(reduce(accumulator, acc_list, 0))\n",
    "print(acc_list)"
   ]
  },
  {
   "cell_type": "markdown",
   "id": "bf0ed49a",
   "metadata": {},
   "source": [
    "### Lambda Expressions"
   ]
  },
  {
   "cell_type": "markdown",
   "id": "162bb741",
   "metadata": {},
   "source": [
    "`lambda arguments: expression`\n",
    "* A small anonymous function that is defined without a name\n",
    "* Small functions that are needed only in a specific context, and are not meant to be used elsewhere in the code **( Functions are only used once in the code & No need to store on our machines )**\n",
    "* It is particularly useful when you want to pass a function as an argument to another function, or when you want to define a function as part of a larger expression."
   ]
  },
  {
   "cell_type": "code",
   "execution_count": 151,
   "id": "99248717",
   "metadata": {},
   "outputs": [
    {
     "name": "stdout",
     "output_type": "stream",
     "text": [
      "[2, 4, 6]\n",
      "[1, 3, 5, 7, 9, 11, 13, 15, 17, 19, 21, 23, 25, 27, 29, 31, 33, 35, 37, 39, 41, 43, 45, 47, 49]\n",
      "6\n"
     ]
    }
   ],
   "source": [
    "print(list(map(lambda item: item*2, my_list)))\n",
    "\n",
    "print(list(filter(lambda item: item % 2 != 0, long_list)))\n",
    "\n",
    "print(reduce(lambda acc, item: item + acc, acc_list))"
   ]
  },
  {
   "cell_type": "markdown",
   "id": "67ab4e15",
   "metadata": {},
   "source": [
    "### Comprehensions"
   ]
  },
  {
   "cell_type": "markdown",
   "id": "34d26a3b",
   "metadata": {},
   "source": [
    "` list_name = [expression for item in iterable (if condition)]` \n",
    "* Create a list using a single line of code\n",
    "* It is particularly useful when you want to perform a **simple operation on a large dataset, and can often be used to replace**"
   ]
  },
  {
   "cell_type": "code",
   "execution_count": 155,
   "id": "ecc3832b",
   "metadata": {},
   "outputs": [
    {
     "name": "stdout",
     "output_type": "stream",
     "text": [
      "['h', 'e', 'l', 'l', 'o']\n",
      "[0, 1, 2, 3, 4, 5, 6, 7, 8, 9, 10, 11, 12, 13, 14, 15, 16, 17, 18, 19, 20, 21, 22, 23, 24, 25, 26, 27, 28, 29, 30, 31, 32, 33, 34, 35, 36, 37, 38, 39, 40, 41, 42, 43, 44, 45, 46, 47, 48, 49, 50]\n",
      "[0, 1, 4, 9, 16, 25, 36, 49, 64, 81, 100, 121, 144, 169, 196, 225, 256, 289, 324, 361, 400, 441, 484, 529, 576, 625, 676, 729, 784, 841, 900, 961, 1024, 1089, 1156, 1225, 1296, 1369, 1444, 1521, 1600, 1681, 1764, 1849, 1936, 2025, 2116, 2209, 2304, 2401, 2500]\n",
      "[0, 4, 16, 36, 64, 100, 144, 196, 256, 324, 400, 484, 576, 676, 784, 900, 1024, 1156, 1296, 1444, 1600, 1764, 1936, 2116, 2304, 2500]\n"
     ]
    }
   ],
   "source": [
    "com_list1 = [char for char in 'hello']\n",
    "com_list2 = [num for num in range(0,51)]\n",
    "com_list3 = [num**2 for num in range(0,51)]\n",
    "com_list4 = [num**2 for num in range(0,51) if num % 2 == 0]\n",
    "\n",
    "print(com_list1)\n",
    "print(com_list2)\n",
    "print(com_list3)\n",
    "print(com_list4)"
   ]
  },
  {
   "cell_type": "markdown",
   "id": "fe773406",
   "metadata": {},
   "source": [
    "`set_name = {expression for item in iterable (if condition)}`\n",
    "* Create a set using a single line of code\n",
    "* It is particularly useful when you want to perform a simple operation on a large dataset, and can often be used to replace loops that create sets"
   ]
  },
  {
   "cell_type": "code",
   "execution_count": 156,
   "id": "f95398ca",
   "metadata": {},
   "outputs": [
    {
     "name": "stdout",
     "output_type": "stream",
     "text": [
      "{'e', 'o', 'l', 'h'}\n",
      "{0, 1, 2, 3, 4, 5, 6, 7, 8, 9, 10, 11, 12, 13, 14, 15, 16, 17, 18, 19, 20, 21, 22, 23, 24, 25, 26, 27, 28, 29, 30, 31, 32, 33, 34, 35, 36, 37, 38, 39, 40, 41, 42, 43, 44, 45, 46, 47, 48, 49, 50}\n",
      "{0, 1, 256, 1024, 4, 900, 1156, 2304, 9, 16, 144, 400, 529, 784, 1296, 1681, 1936, 25, 289, 2209, 36, 676, 1444, 169, 49, 441, 1849, 64, 576, 961, 1089, 196, 324, 1600, 2116, 2500, 841, 1225, 81, 729, 1369, 225, 2401, 100, 484, 1764, 361, 2025, 625, 1521, 121}\n",
      "{0, 256, 1024, 2304, 4, 900, 1156, 16, 144, 400, 784, 1296, 1936, 36, 676, 1444, 64, 576, 1600, 196, 324, 2116, 2500, 100, 484, 1764}\n"
     ]
    }
   ],
   "source": [
    "com_set1 = {char for char in 'hello'}\n",
    "com_set2 = {num for num in range(0,51)}\n",
    "com_set3 = {num**2 for num in range(0,51)}\n",
    "com_set4 = {num**2 for num in range(0,51) if num % 2 == 0}\n",
    "\n",
    "print(com_set1)\n",
    "print(com_set2)\n",
    "print(com_set3)\n",
    "print(com_set4)"
   ]
  },
  {
   "cell_type": "markdown",
   "id": "01758f3f",
   "metadata": {},
   "source": [
    "`dict_name = {key: value for item in iterable (if condition)}`\n",
    "* Create a dictionary using a single line of code\n",
    "* It is particularly useful when you want to perform a simple operation on a large dataset, and can often be used to replace loops that create dictionaries"
   ]
  },
  {
   "cell_type": "code",
   "execution_count": 164,
   "id": "65ed6b50",
   "metadata": {},
   "outputs": [
    {
     "name": "stdout",
     "output_type": "stream",
     "text": [
      "{'b': 4}\n",
      "{1, 4, 9}\n"
     ]
    }
   ],
   "source": [
    "simple_dict = {\n",
    "    'a' : 1,\n",
    "    'b' : 2\n",
    "}\n",
    "\n",
    "new_dict = {k:v**2 for k, v in simple_dict.items() if v % 2 == 0}\n",
    "print(new_dict)\n",
    "\n",
    "\n",
    "brand_new_list = {num**2 for num in [1,2,3]}\n",
    "print(brand_new_list)"
   ]
  },
  {
   "cell_type": "markdown",
   "id": "935301dd",
   "metadata": {},
   "source": [
    "## Decorator"
   ]
  },
  {
   "cell_type": "markdown",
   "id": "445d87bf",
   "metadata": {},
   "source": [
    "* A special type of function that takes another function as an argument and extends the behavior of the decorated function **without modifying its code**\n",
    "* It is particularly useful for applying common patterns, such as logging, caching, or synchronization, to a function in a concise and efficient way"
   ]
  },
  {
   "cell_type": "markdown",
   "id": "9ffd7654",
   "metadata": {},
   "source": [
    "### HOF - Higher Order Function"
   ]
  },
  {
   "cell_type": "markdown",
   "id": "b840a5fe",
   "metadata": {},
   "source": [
    "* Takes another function as an argument or returns a function as a result\n",
    "* It is particularly useful for creating reusable and composable code, and can greatly simplify complex tasks by breaking them down into smaller, more manageable pieces\n",
    "* Common HOF - map(), filter(), reduce()"
   ]
  },
  {
   "cell_type": "code",
   "execution_count": 167,
   "id": "53de14ad",
   "metadata": {},
   "outputs": [
    {
     "name": "stdout",
     "output_type": "stream",
     "text": [
      "7\n"
     ]
    }
   ],
   "source": [
    "def add(x, y):\n",
    "    return x + y\n",
    "\n",
    "def apply_function(func, x, y): # HOF: take add function as an argument\n",
    "    return func(x, y)\n",
    "\n",
    "result = apply_function(add, 3, 4)\n",
    "print(result)  "
   ]
  },
  {
   "cell_type": "markdown",
   "id": "bdc67a61",
   "metadata": {},
   "source": [
    "`@decorator\n",
    "def function():\n",
    "    # function code\n",
    "`"
   ]
  },
  {
   "cell_type": "code",
   "execution_count": 174,
   "id": "b19eea59",
   "metadata": {},
   "outputs": [
    {
     "name": "stdout",
     "output_type": "stream",
     "text": [
      "helloooooo\n",
      "say_hello:  None\n",
      "*********\n",
      "byeeeeee\n",
      "*********\n",
      "say_bye:  None\n",
      "*********\n",
      "helloooooo\n",
      "*********\n",
      "hello2:  None\n",
      "*********\n",
      "helloooooo\n",
      "*********\n"
     ]
    }
   ],
   "source": [
    "def my_decorator(func):\n",
    "    def wrap_func():\n",
    "        print('*********')\n",
    "        func()\n",
    "        print('*********')\n",
    "    return wrap_func\n",
    "\n",
    "def say_hello():\n",
    "    print('helloooooo')\n",
    "\n",
    "@my_decorator # it will boost the below function\n",
    "def say_bye():\n",
    "    print('byeeeeee')\n",
    "\n",
    "print('say_hello: ', say_hello())\n",
    "print('say_bye: ', say_bye())\n",
    "\n",
    "hello2 = my_decorator(say_hello)\n",
    "print('hello2: ', hello2())\n",
    "\n",
    "my_decorator(say_hello)()"
   ]
  },
  {
   "cell_type": "code",
   "execution_count": 185,
   "id": "87c459ae",
   "metadata": {},
   "outputs": [
    {
     "name": "stdout",
     "output_type": "stream",
     "text": [
      "hiiii :)\n"
     ]
    }
   ],
   "source": [
    "def my_decorator(fc): # decorator pattern\n",
    "    def wrap_func(*args, **kwargs):\n",
    "        fc(*args, **kwargs)\n",
    "    return wrap_func\n",
    "\n",
    "@my_decorator\n",
    "def hello(greeting, emoji = ':)'):\n",
    "    print(greeting, emoji)\n",
    "    \n",
    "hello('hiiii')"
   ]
  },
  {
   "cell_type": "code",
   "execution_count": 32,
   "id": "a827daea",
   "metadata": {},
   "outputs": [
    {
     "name": "stdout",
     "output_type": "stream",
     "text": [
      "it took 0.2521679401397705 s\n"
     ]
    }
   ],
   "source": [
    "from time import time\n",
    "\n",
    "def performance(fc):\n",
    "    def wrapper(*args, **kwargs):\n",
    "        start_time = time()\n",
    "        result = fc(*args, **kwargs)\n",
    "        end_time = time()\n",
    "        print(f'it took {end_time-start_time} s')\n",
    "        return result\n",
    "    return wrapper\n",
    "\n",
    "@performance\n",
    "def check_time():\n",
    "    for i in range(10000000):\n",
    "        i*5\n",
    "        \n",
    "check_time()"
   ]
  },
  {
   "cell_type": "markdown",
   "id": "ec5bfcd6",
   "metadata": {},
   "source": [
    "## Error Handling"
   ]
  },
  {
   "cell_type": "markdown",
   "id": "6d687693",
   "metadata": {},
   "source": [
    "* The process of anticipating and handling runtime errors that may occur during the execution of a program\n",
    "* Allows you to anticipate and handle exceptions that may occur during the execution of your proganticipate and handle exceptions that may occur during the execution of your program, and helps you write code that is resistant to errors and failures\n",
    "* https://docs.python.org/3/library/exceptions.html\n",
    "* If there are same built-ins, only one error will be run"
   ]
  },
  {
   "cell_type": "markdown",
   "id": "04c5fb7b",
   "metadata": {},
   "source": [
    "`try:\n",
    "    # Code that may raise an exception\n",
    " except ExceptionType:\n",
    "    # Code to handle the exception\n",
    "`"
   ]
  },
  {
   "cell_type": "code",
   "execution_count": 186,
   "id": "d00cd7e9",
   "metadata": {},
   "outputs": [
    {
     "name": "stdout",
     "output_type": "stream",
     "text": [
      "What is your age?fjis\n",
      "Please enter a number.\n",
      "What is your age?0\n",
      "please enter age higher than number 0.\n",
      "What is your age?70\n",
      "Got it!\n"
     ]
    }
   ],
   "source": [
    "while True: \n",
    "    try:\n",
    "        age = int(input('What is your age?'))\n",
    "        10/age\n",
    "    except ValueError:\n",
    "        print('Please enter a number.')\n",
    "    except ValueError:\n",
    "        print('!!!!')\n",
    "    except ZeroDivisionError:\n",
    "        print('please enter age higher than number 0.')\n",
    "    else:\n",
    "        print('Got it!')\n",
    "        break"
   ]
  },
  {
   "cell_type": "markdown",
   "id": "321ee350",
   "metadata": {},
   "source": [
    "`def my_function() : \n",
    "    try:\n",
    "    # Code that may raise an exception\n",
    "    except ExceptionType:\n",
    "    # Code to handle the exception\n",
    "` "
   ]
  },
  {
   "cell_type": "code",
   "execution_count": 13,
   "id": "a7c76c4e",
   "metadata": {},
   "outputs": [
    {
     "name": "stdout",
     "output_type": "stream",
     "text": [
      "error: unsupported operand type(s) for +: 'int' and 'str'\n",
      "None\n",
      "division by zero\n",
      "None\n",
      "unsupported operand type(s) for /: 'int' and 'str'\n",
      "None\n"
     ]
    }
   ],
   "source": [
    "def sum(num1, num2):\n",
    "    try:\n",
    "        return num1 + num2\n",
    "    except TypeError as err:\n",
    "        print(f'error: {err}')\n",
    "\n",
    "def math(num1, num2):\n",
    "    try:\n",
    "        return num1/num2\n",
    "    except (TypeError, ZeroDivisionError) as err:\n",
    "        print(err)\n",
    "        \n",
    "print(sum(1, '123'))\n",
    "print(math(123, 0))\n",
    "print(math(123, '34'))"
   ]
  },
  {
   "cell_type": "markdown",
   "id": "afab715d",
   "metadata": {},
   "source": [
    "`try:\n",
    "    # Code that may raise an exception\n",
    " except ExceptionType:\n",
    "    # Code to handle the exception\n",
    " finally:\n",
    "    # Code will be run whether it has error above\n",
    "`"
   ]
  },
  {
   "cell_type": "code",
   "execution_count": 2,
   "id": "b46bcffb",
   "metadata": {},
   "outputs": [
    {
     "name": "stdout",
     "output_type": "stream",
     "text": [
      "What is your age?ads\n",
      "Please enter a number.\n",
      "ok, I am finally done\n",
      "What is your age?14\n",
      "Got it!\n",
      "ok, I am finally done\n"
     ]
    }
   ],
   "source": [
    "while True: \n",
    "    try:\n",
    "        age = int(input('What is your age?'))\n",
    "        10/age\n",
    "    except ValueError:\n",
    "        print('Please enter a number.')\n",
    "        continue # make the loop all over again\n",
    "    except ZeroDivisionError:\n",
    "        print('please enter age higher than number 0.')\n",
    "        break \n",
    "    else:\n",
    "        print('Got it!')\n",
    "        break\n",
    "    finally: \n",
    "        print('ok, I am finally done')\n",
    "    print('There is no break before this, please add one!')"
   ]
  },
  {
   "cell_type": "markdown",
   "id": "dc3d1c5f",
   "metadata": {},
   "source": [
    "`\n",
    "if conditions\n",
    "    raise ExceptionType('') \n",
    "`"
   ]
  },
  {
   "cell_type": "code",
   "execution_count": 40,
   "id": "da27bdf7",
   "metadata": {},
   "outputs": [
    {
     "name": "stdout",
     "output_type": "stream",
     "text": [
      "What is your age?gdss\n",
      "Please enter a number.\n",
      "ok, I am finally done\n"
     ]
    }
   ],
   "source": [
    "while True: \n",
    "    try:\n",
    "        age = int(input('What is your age?'))\n",
    "        if age == 0:\n",
    "            raise ZeroDivisionError('please enter age higher than number 0.')\n",
    "        10/age\n",
    "#     except ZeroDivisionError:\n",
    "#         print('please enter age higher than number 0.')\n",
    "#         continue \n",
    "    except ValueError:\n",
    "        print('Please enter a number.')\n",
    "        break\n",
    "    else:\n",
    "        print('Got it!')\n",
    "        break\n",
    "    finally: \n",
    "        print('ok, I am finally done')\n",
    "    print('There is no break before this, please add one!')"
   ]
  },
  {
   "cell_type": "code",
   "execution_count": 29,
   "id": "fbc091ef",
   "metadata": {},
   "outputs": [
    {
     "name": "stdout",
     "output_type": "stream",
     "text": [
      "result: 61.5\n"
     ]
    },
    {
     "ename": "ZeroDivisionError",
     "evalue": "Cannot divide by zero",
     "output_type": "error",
     "traceback": [
      "\u001b[1;31m---------------------------------------------------------------------------\u001b[0m",
      "\u001b[1;31mZeroDivisionError\u001b[0m                         Traceback (most recent call last)",
      "\u001b[1;32m~\\AppData\\Local\\Temp\\ipykernel_14996\\635466906.py\u001b[0m in \u001b[0;36m<module>\u001b[1;34m\u001b[0m\n\u001b[0;32m      6\u001b[0m \u001b[1;33m\u001b[0m\u001b[0m\n\u001b[0;32m      7\u001b[0m \u001b[0mprint\u001b[0m\u001b[1;33m(\u001b[0m\u001b[1;34m'result:'\u001b[0m\u001b[1;33m,\u001b[0m\u001b[0mdivided\u001b[0m\u001b[1;33m(\u001b[0m\u001b[1;36m123\u001b[0m\u001b[1;33m,\u001b[0m \u001b[1;36m2\u001b[0m\u001b[1;33m)\u001b[0m\u001b[1;33m)\u001b[0m\u001b[1;33m\u001b[0m\u001b[1;33m\u001b[0m\u001b[0m\n\u001b[1;32m----> 8\u001b[1;33m \u001b[0mprint\u001b[0m\u001b[1;33m(\u001b[0m\u001b[1;34m'result:'\u001b[0m\u001b[1;33m,\u001b[0m\u001b[0mdivided\u001b[0m\u001b[1;33m(\u001b[0m\u001b[1;36m123\u001b[0m\u001b[1;33m,\u001b[0m \u001b[1;36m0\u001b[0m\u001b[1;33m)\u001b[0m\u001b[1;33m)\u001b[0m\u001b[1;33m\u001b[0m\u001b[1;33m\u001b[0m\u001b[0m\n\u001b[0m",
      "\u001b[1;32m~\\AppData\\Local\\Temp\\ipykernel_14996\\635466906.py\u001b[0m in \u001b[0;36mdivided\u001b[1;34m(num_1, num_2)\u001b[0m\n\u001b[0;32m      1\u001b[0m \u001b[1;32mdef\u001b[0m \u001b[0mdivided\u001b[0m\u001b[1;33m(\u001b[0m\u001b[0mnum_1\u001b[0m\u001b[1;33m,\u001b[0m \u001b[0mnum_2\u001b[0m\u001b[1;33m)\u001b[0m\u001b[1;33m:\u001b[0m\u001b[1;33m\u001b[0m\u001b[1;33m\u001b[0m\u001b[0m\n\u001b[0;32m      2\u001b[0m     \u001b[1;32mif\u001b[0m \u001b[0mnum_2\u001b[0m \u001b[1;33m==\u001b[0m \u001b[1;36m0\u001b[0m\u001b[1;33m:\u001b[0m\u001b[1;33m\u001b[0m\u001b[1;33m\u001b[0m\u001b[0m\n\u001b[1;32m----> 3\u001b[1;33m         \u001b[1;32mraise\u001b[0m \u001b[0mZeroDivisionError\u001b[0m\u001b[1;33m(\u001b[0m\u001b[1;34m\"Cannot divide by zero\"\u001b[0m\u001b[1;33m)\u001b[0m\u001b[1;33m\u001b[0m\u001b[1;33m\u001b[0m\u001b[0m\n\u001b[0m\u001b[0;32m      4\u001b[0m     \u001b[0mresult\u001b[0m \u001b[1;33m=\u001b[0m \u001b[0mnum_1\u001b[0m\u001b[1;33m/\u001b[0m\u001b[0mnum_2\u001b[0m\u001b[1;33m\u001b[0m\u001b[1;33m\u001b[0m\u001b[0m\n\u001b[0;32m      5\u001b[0m     \u001b[1;32mreturn\u001b[0m \u001b[0mresult\u001b[0m\u001b[1;33m\u001b[0m\u001b[1;33m\u001b[0m\u001b[0m\n",
      "\u001b[1;31mZeroDivisionError\u001b[0m: Cannot divide by zero"
     ]
    }
   ],
   "source": [
    "def divided(num_1, num_2):\n",
    "    if num_2 == 0:\n",
    "        raise ZeroDivisionError(\"Cannot divide by zero\")\n",
    "    result = num_1/num_2\n",
    "    return result\n",
    "\n",
    "print('result:',divided(123, 2))\n",
    "print('result:',divided(123, 0))"
   ]
  },
  {
   "cell_type": "markdown",
   "id": "48da208c",
   "metadata": {},
   "source": [
    "## Generators"
   ]
  },
  {
   "cell_type": "markdown",
   "id": "727d808a",
   "metadata": {},
   "source": [
    "* Allows you to **produce a sequence of values on demand**, rather than generating the entire sequence at once and storing it in memory\n",
    "* It is **more efficient**, especially if the sequence is very large or if the values are expensive to compute\n",
    "* Everything that is a generator is iterable, but not everything that is iterable is a generator\n",
    "* Common generators - range()"
   ]
  },
  {
   "cell_type": "markdown",
   "id": "8171f5be",
   "metadata": {},
   "source": [
    "### Generators V.S. Iterables"
   ]
  },
  {
   "cell_type": "markdown",
   "id": "dfa71655",
   "metadata": {},
   "source": [
    "* An iterable produces all of its values **at once**\n",
    "* A generator produces values **on demand** "
   ]
  },
  {
   "cell_type": "code",
   "execution_count": 129,
   "id": "64347b2c",
   "metadata": {},
   "outputs": [
    {
     "name": "stdout",
     "output_type": "stream",
     "text": [
      "all at once [0, 1, 2, 3, 4, 5, 6, 7, 8, 9]\n"
     ]
    }
   ],
   "source": [
    "def iterables_function(num):\n",
    "    result = []\n",
    "    for i in range(num):\n",
    "        result.append(i)\n",
    "    return result\n",
    "    \n",
    "print('all at once', iterables_function(10))"
   ]
  },
  {
   "cell_type": "code",
   "execution_count": 131,
   "id": "832d6a1f",
   "metadata": {
    "scrolled": false
   },
   "outputs": [
    {
     "name": "stdout",
     "output_type": "stream",
     "text": [
      "1st demand:  <generator object generator_function at 0x000001E5A580D350>\n",
      "2nd demand:  0\n",
      "3rd demand:  1\n",
      "4th demand:  2\n",
      "last demand:  [3, 4, 5, 6, 7, 8, 9]\n"
     ]
    }
   ],
   "source": [
    "def generator_function(num):\n",
    "    for i in range(num):\n",
    "        yield i\n",
    "\n",
    "result = []\n",
    "g = generator_function(10)\n",
    "print('1st demand: ',g)\n",
    "print('2nd demand: ',next(g))\n",
    "print('3rd demand: ',next(g))\n",
    "print('4th demand: ',next(g))\n",
    "\n",
    "for x in g:\n",
    "    result.append(x)\n",
    "print('last demand: ',result)"
   ]
  },
  {
   "cell_type": "markdown",
   "id": "bdc7b204",
   "metadata": {},
   "source": [
    "### Generators Performance"
   ]
  },
  {
   "cell_type": "markdown",
   "id": "76419561",
   "metadata": {},
   "source": [
    "* It is useful when calculating large sets of data (more efficient and faster)"
   ]
  },
  {
   "cell_type": "code",
   "execution_count": 34,
   "id": "cace6dad",
   "metadata": {},
   "outputs": [
    {
     "name": "stdout",
     "output_type": "stream",
     "text": [
      "it took 0.2585597038269043 s\n",
      "it took 0.367950439453125 s\n"
     ]
    }
   ],
   "source": [
    "from time import time\n",
    "\n",
    "def performance(fc):\n",
    "    def wrapper(*args, **kwargs):\n",
    "        start_time = time()\n",
    "        result = fc(*args, **kwargs)\n",
    "        end_time = time()\n",
    "        print(f'it took {end_time-start_time} s')\n",
    "        return result\n",
    "    return wrapper\n",
    "\n",
    "@performance\n",
    "def check_time(): # use generator - range()\n",
    "    for i in range(10000000):\n",
    "        i*5\n",
    "\n",
    "@performance\n",
    "def check_time2(): # use iterables - list()\n",
    "    for i in list(range(10000000)):\n",
    "        i*5\n",
    "              \n",
    "check_time()   \n",
    "check_time2()\n",
    "\n"
   ]
  },
  {
   "cell_type": "markdown",
   "id": "225ef2ed",
   "metadata": {},
   "source": [
    "### Under the hood of Generators"
   ]
  },
  {
   "cell_type": "code",
   "execution_count": 46,
   "id": "6d36f932",
   "metadata": {},
   "outputs": [
    {
     "name": "stdout",
     "output_type": "stream",
     "text": [
      "<list_iterator object at 0x000001E5A30A3700>\n",
      "1\n",
      "<list_iterator object at 0x000001E5A30A3700>\n",
      "2\n",
      "<list_iterator object at 0x000001E5A30A3700>\n",
      "3\n",
      "<list_iterator object at 0x000001E5A30A3700>\n",
      "0\n",
      "1\n",
      "2\n",
      "3\n",
      "4\n",
      "5\n",
      "6\n",
      "7\n",
      "8\n",
      "9\n"
     ]
    }
   ],
   "source": [
    "def special_for(iterable):\n",
    "    iterable = iter(iterable)\n",
    "    while True:\n",
    "        try:\n",
    "            print(iterable)\n",
    "            print(next(iterable))\n",
    "        except StopIteration:\n",
    "            break\n",
    "            \n",
    "special_for([1,2,3])\n",
    "\n",
    "class MyGen():\n",
    "    current = 0\n",
    "    def __init__(self, start, last):\n",
    "        self.start = start\n",
    "        self.last = last\n",
    "        MyGen.current = self.start # this line use the current number as the starting point for the iteration\n",
    "        \n",
    "    def __iter__(self):\n",
    "        return self\n",
    "    \n",
    "    def __next__(self):\n",
    "        if MyGen.current < self.last:\n",
    "            num = MyGen.current\n",
    "            MyGen.current +=1\n",
    "            return num\n",
    "        raise StopIteration\n",
    "\n",
    "gen = MyGen(0, 10)\n",
    "for i in gen:\n",
    "    print(i)"
   ]
  },
  {
   "cell_type": "code",
   "execution_count": 158,
   "id": "683131ca",
   "metadata": {},
   "outputs": [
    {
     "name": "stdout",
     "output_type": "stream",
     "text": [
      "generators result:  0\n",
      "generators result:  1\n",
      "generators result:  1\n",
      "generators result:  2\n",
      "generators result:  3\n",
      "generators result:  5\n",
      "generators result:  8\n",
      "generators result:  13\n",
      "generators result:  21\n",
      "generators result:  34\n",
      "generators result:  55\n",
      "generators result:  89\n",
      "generators result:  144\n",
      "generators result:  233\n",
      "generators result:  377\n",
      "generators result:  610\n",
      "generators result:  987\n",
      "generators result:  1597\n",
      "generators result:  2584\n",
      "generators result:  4181\n",
      "it took 0.06378602981567383 s\n",
      "iterables result:  [0, 1, 1, 2, 3, 5, 8, 13, 21, 34, 55, 89, 144, 233, 377, 610, 987, 1597, 2584, 4181]\n",
      "it took 0.4318225383758545 s\n"
     ]
    }
   ],
   "source": [
    "# Here is an example generator which calculates fibonacci numbers:\n",
    "def fib_generators(number):\n",
    "    a = 0\n",
    "    b = 1\n",
    "    for i in range(number):\n",
    "        yield a   # the value in yield will be changed every time\n",
    "        temp = a  # this allows us to save the value before yield\n",
    "        a = b\n",
    "        b = temp + b \n",
    "\n",
    "for x in fib_generators(20):\n",
    "    print('generators result: ', x)\n",
    "\n",
    "@performance\n",
    "def process_time(): \n",
    "    for x in fib_generators(100000):\n",
    "        x\n",
    "process_time()\n",
    "    \n",
    "# Here is an example iterables which calculates fibonacci numbers:\n",
    "def fib_iterables(number):\n",
    "    a = 0\n",
    "    b = 1\n",
    "    result = []\n",
    "    for i in range(number):\n",
    "        result.append(a)\n",
    "        temp = a\n",
    "        a = b\n",
    "        b = temp + b\n",
    "    return result\n",
    "print('iterables result: ',fib_iterables(20))\n",
    "\n",
    "@performance\n",
    "def process_time2(): \n",
    "    fib_iterables(100000)\n",
    "\n",
    "process_time2()"
   ]
  },
  {
   "cell_type": "markdown",
   "id": "7346b384",
   "metadata": {},
   "source": [
    "## Modules"
   ]
  },
  {
   "cell_type": "markdown",
   "id": "24a2b9c7",
   "metadata": {},
   "source": [
    "* A module is a file containing Python definitions and statements\n",
    "* To organize your code and make it easier to reuse\n",
    "* To import modules in the python code, please use `import moduleName`\n",
    "* To import specific definitions/functions from a module into the code, please use `from moduleName import functions`"
   ]
  },
  {
   "cell_type": "markdown",
   "id": "964a36ac",
   "metadata": {},
   "source": [
    "### Packages"
   ]
  },
  {
   "cell_type": "markdown",
   "id": "41b44e71",
   "metadata": {},
   "source": [
    "* A package is a collection of modules that have been bundled together in a single distribution\n",
    "* It must contain **\\_\\_init_\\_\\.py** file that can be empty, or it can contain code that needs to be run when the package is imported\n",
    "* To import modules from a package into the python code, please use `import packageName.moduleName`\n",
    "* To import specific definitions/functions from a module into the code, please use `from packageName.moduleName import functions`"
   ]
  },
  {
   "cell_type": "markdown",
   "id": "e1522e96",
   "metadata": {},
   "source": [
    "### \\_\\_name\\_\\_"
   ]
  },
  {
   "cell_type": "markdown",
   "id": "e07dbe85",
   "metadata": {},
   "source": [
    "* It is a built-in variable that contains the name of the current module\n",
    "* Below code is to check if the module is **main.py** and run directly. If the module is imported by another module, then \\_\\_name\\_\\_ will be set to the name of the module\n",
    "* In a big project, below codes allows us to check if the module is **main.py** and run functions directly\n",
    "\n",
    "`if __name__ == '__main__':\n",
    "    functions\n",
    "`\n"
   ]
  },
  {
   "cell_type": "code",
   "execution_count": 160,
   "id": "2dee9066",
   "metadata": {},
   "outputs": [
    {
     "name": "stdout",
     "output_type": "stream",
     "text": [
      "This is main.py\n"
     ]
    }
   ],
   "source": [
    "if __name__ == '__main__':\n",
    "    print('This is main.py')"
   ]
  },
  {
   "cell_type": "markdown",
   "id": "99fa5ca6",
   "metadata": {},
   "source": [
    "### Built-in Modules"
   ]
  },
  {
   "cell_type": "markdown",
   "id": "f4180a6c",
   "metadata": {},
   "source": [
    "* https://docs.python.org/3/py-modindex.html\n",
    "* The best way to import built-in modules is to import specific definitions/functions when you are going to use"
   ]
  },
  {
   "cell_type": "code",
   "execution_count": 177,
   "id": "b7fd1e36",
   "metadata": {
    "scrolled": false
   },
   "outputs": [
    {
     "name": "stdout",
     "output_type": "stream",
     "text": [
      "random:  <module 'random' from 'C:\\\\Users\\\\hisup\\\\anaconda3\\\\lib\\\\random.py'>\n",
      "show all methods in random:  ['BPF', 'LOG4', 'NV_MAGICCONST', 'RECIP_BPF', 'Random', 'SG_MAGICCONST', 'SystemRandom', 'TWOPI', '_Sequence', '_Set', '__all__', '__builtins__', '__cached__', '__doc__', '__file__', '__loader__', '__name__', '__package__', '__spec__', '_accumulate', '_acos', '_bisect', '_ceil', '_cos', '_e', '_exp', '_floor', '_inst', '_log', '_os', '_pi', '_random', '_repeat', '_sha512', '_sin', '_sqrt', '_test', '_test_generator', '_urandom', '_warn', 'betavariate', 'choice', 'choices', 'expovariate', 'gammavariate', 'gauss', 'getrandbits', 'getstate', 'lognormvariate', 'normalvariate', 'paretovariate', 'randbytes', 'randint', 'random', 'randrange', 'sample', 'seed', 'setstate', 'shuffle', 'triangular', 'uniform', 'vonmisesvariate', 'weibullvariate']\n",
      "choice method:  1\n"
     ]
    }
   ],
   "source": [
    "from random import choice\n",
    "\n",
    "print('random: ',random)\n",
    "print('show all methods in random: ',dir(random))\n",
    "print('choice method: ',random.choice([1,2,3,4,5]))"
   ]
  },
  {
   "cell_type": "markdown",
   "id": "dbb31912",
   "metadata": {},
   "source": [
    "### sys"
   ]
  },
  {
   "cell_type": "markdown",
   "id": "b7dac191",
   "metadata": {},
   "source": [
    "* It is commonly used to manipulate command-line arguments, handle exceptions, and configure the interpreter\n",
    "* https://docs.python.org/3/library/sys.html"
   ]
  },
  {
   "cell_type": "code",
   "execution_count": 171,
   "id": "df8f86c9",
   "metadata": {},
   "outputs": [],
   "source": [
    "# The code is in sys_test.py \n",
    "import sys\n",
    "\n",
    "first = sys.argv[1]\n",
    "second = sys.argv[2]"
   ]
  },
  {
   "cell_type": "code",
   "execution_count": 175,
   "id": "e5b952a4",
   "metadata": {},
   "outputs": [
    {
     "name": "stdout",
     "output_type": "stream",
     "text": [
      "hiii Joyce Tang\n"
     ]
    }
   ],
   "source": [
    "!python sys_test.py Joyce Tang"
   ]
  },
  {
   "cell_type": "markdown",
   "id": "01499c97",
   "metadata": {},
   "source": [
    "### Python Packages Websites"
   ]
  },
  {
   "cell_type": "markdown",
   "id": "2a2a5643",
   "metadata": {},
   "source": [
    "* https://pypi.org/\n",
    "* pip install: https://www.makeuseof.com/tag/install-pip-for-python/\n",
    "* github **star** is for how many people likes the packages and **fork** is how many people copy and use the package"
   ]
  },
  {
   "cell_type": "markdown",
   "id": "31c98808",
   "metadata": {},
   "source": [
    "### Venv folder\n",
    "<img src='resources/venv.png' width='400px'/>"
   ]
  },
  {
   "cell_type": "markdown",
   "id": "26f9cdc1",
   "metadata": {},
   "source": [
    "* A module that allows you to create **lightweight virtual environments** for Python\n",
    "* An isolated environment that has its own installation directories and that doesn't share libraries with other virtual environments or the global environment\n",
    "* It is useful if you want to have **different versions of packages or modules for different projects**, or if you want to test code on a clean environment without affecting your global installation"
   ]
  },
  {
   "cell_type": "markdown",
   "id": "0318b8c1",
   "metadata": {},
   "source": [
    "### Useful Modules"
   ]
  },
  {
   "cell_type": "markdown",
   "id": "7a436e83",
   "metadata": {},
   "source": [
    "`collections`\n",
    "* https://docs.python.org/3/library/collections.html#module-collections\n"
   ]
  },
  {
   "cell_type": "markdown",
   "id": "d7e38e56",
   "metadata": {},
   "source": [
    "* Counter"
   ]
  },
  {
   "cell_type": "code",
   "execution_count": 228,
   "id": "8058042f",
   "metadata": {},
   "outputs": [
    {
     "name": "stdout",
     "output_type": "stream",
     "text": [
      "Counter({8: 3, 7: 2, 1: 1, 2: 1, 3: 1, 4: 1, 5: 1, 6: 1})\n",
      "Counter({'h': 4, ' ': 4, 'b': 3, 'a': 3, 't': 3, 'n': 3, 'l': 2, 'i': 2, 'o': 2, 'k': 1, 'g': 1, 'u': 1, 'p': 1, 'y': 1})\n"
     ]
    }
   ],
   "source": [
    "from collections import Counter, defaultdict, OrderedDict\n",
    "\n",
    "li = [1,2,3,4,5,6,7,7,8,8,8]\n",
    "sentence = 'blah blah thinking about python'\n",
    "print(Counter(li))\n",
    "print(Counter(sentence))"
   ]
  },
  {
   "cell_type": "markdown",
   "id": "187bc4d3",
   "metadata": {},
   "source": [
    "* defaultdict"
   ]
  },
  {
   "cell_type": "code",
   "execution_count": 234,
   "id": "b8073b21",
   "metadata": {},
   "outputs": [
    {
     "name": "stdout",
     "output_type": "stream",
     "text": [
      "1\n",
      "0\n",
      "1\n",
      "5\n",
      "1\n"
     ]
    },
    {
     "ename": "KeyError",
     "evalue": "'c'",
     "output_type": "error",
     "traceback": [
      "\u001b[1;31m---------------------------------------------------------------------------\u001b[0m",
      "\u001b[1;31mKeyError\u001b[0m                                  Traceback (most recent call last)",
      "\u001b[1;32m~\\AppData\\Local\\Temp\\ipykernel_14664\\3599841021.py\u001b[0m in \u001b[0;36m<module>\u001b[1;34m\u001b[0m\n\u001b[0;32m      9\u001b[0m \u001b[0mdictionary2\u001b[0m \u001b[1;33m=\u001b[0m \u001b[1;33m{\u001b[0m\u001b[1;34m'a'\u001b[0m\u001b[1;33m:\u001b[0m\u001b[1;36m1\u001b[0m\u001b[1;33m,\u001b[0m \u001b[1;34m'b'\u001b[0m\u001b[1;33m:\u001b[0m\u001b[1;36m2\u001b[0m\u001b[1;33m}\u001b[0m\u001b[1;33m\u001b[0m\u001b[1;33m\u001b[0m\u001b[0m\n\u001b[0;32m     10\u001b[0m \u001b[0mprint\u001b[0m\u001b[1;33m(\u001b[0m\u001b[0mdictionary2\u001b[0m\u001b[1;33m[\u001b[0m\u001b[1;34m'a'\u001b[0m\u001b[1;33m]\u001b[0m\u001b[1;33m)\u001b[0m\u001b[1;33m\u001b[0m\u001b[1;33m\u001b[0m\u001b[0m\n\u001b[1;32m---> 11\u001b[1;33m \u001b[0mprint\u001b[0m\u001b[1;33m(\u001b[0m\u001b[0mdictionary2\u001b[0m\u001b[1;33m[\u001b[0m\u001b[1;34m'c'\u001b[0m\u001b[1;33m]\u001b[0m\u001b[1;33m)\u001b[0m\u001b[1;33m\u001b[0m\u001b[1;33m\u001b[0m\u001b[0m\n\u001b[0m",
      "\u001b[1;31mKeyError\u001b[0m: 'c'"
     ]
    }
   ],
   "source": [
    "dictionary = defaultdict(int,{'a':1, 'b':2})\n",
    "print(dictionary['a'])\n",
    "print(dictionary['c']) # print(dictionary())\n",
    "\n",
    "dictionary1 = defaultdict(lambda: 5,{'a':1, 'b':2})\n",
    "print(dictionary1['a'])\n",
    "print(dictionary1['c']) \n",
    "\n",
    "dictionary2 = {'a':1, 'b':2}\n",
    "print(dictionary2['a'])\n",
    "print(dictionary2['c'])"
   ]
  },
  {
   "cell_type": "markdown",
   "id": "0e2f6b83",
   "metadata": {},
   "source": [
    "* OrderedDict\n",
    "* Recently, the Python has made Dictionaries ordered by default! So unless you need to maintain older version of Python (older than 3.7), you no longer need to use ordered dict, you can just use regular dictionaries!\n",
    "\n",
    "read more: https://softwaremaniacs.org/blog/2020/02/05/dicts-ordered/en/"
   ]
  },
  {
   "cell_type": "code",
   "execution_count": 238,
   "id": "4ab45e40",
   "metadata": {},
   "outputs": [
    {
     "name": "stdout",
     "output_type": "stream",
     "text": [
      "True\n",
      "False\n",
      "True\n"
     ]
    }
   ],
   "source": [
    "j = {'c':100}\n",
    "j['a'] = 1\n",
    "j['b'] = 2\n",
    "\n",
    "j2 = {'c':100}\n",
    "j2['b'] = 2\n",
    "j2['a'] = 1\n",
    "\n",
    "print(j2 == j)\n",
    "\n",
    "b = OrderedDict()\n",
    "b['a'] = 1\n",
    "b['b'] = 2\n",
    "\n",
    "b2 = OrderedDict()\n",
    "b2['b'] = 2\n",
    "b2['a'] = 1\n",
    "\n",
    "print(b2 == b)\n",
    "\n",
    "d = OrderedDict()\n",
    "d['a'] = 1\n",
    "d['b'] = 2\n",
    "\n",
    "d2 = OrderedDict()\n",
    "d2['a'] = 1\n",
    "d2['b'] = 2\n",
    "\n",
    "print(d2 == d)"
   ]
  },
  {
   "cell_type": "markdown",
   "id": "275151db",
   "metadata": {},
   "source": [
    "`datetime`\n",
    "* https://docs.python.org/3/library/datetime.html#module-datetime"
   ]
  },
  {
   "cell_type": "markdown",
   "id": "6c1e6236",
   "metadata": {},
   "source": [
    "`time`\n",
    "* https://docs.python.org/3/library/time.html#module-time"
   ]
  },
  {
   "cell_type": "markdown",
   "id": "64ea1d1d",
   "metadata": {},
   "source": [
    "`array`\n",
    "* https://docs.python.org/3/library/array.html#module-array\n",
    "* **Differences between list and array:** https://stackoverflow.com/questions/176011/python-list-vs-array-when-to-use"
   ]
  },
  {
   "cell_type": "code",
   "execution_count": 240,
   "id": "605db337",
   "metadata": {},
   "outputs": [
    {
     "ename": "TypeError",
     "evalue": "'type' object is not subscriptable",
     "output_type": "error",
     "traceback": [
      "\u001b[1;31m---------------------------------------------------------------------------\u001b[0m",
      "\u001b[1;31mTypeError\u001b[0m                                 Traceback (most recent call last)",
      "\u001b[1;32m~\\AppData\\Local\\Temp\\ipykernel_14664\\1243689798.py\u001b[0m in \u001b[0;36m<module>\u001b[1;34m\u001b[0m\n\u001b[0;32m      2\u001b[0m \u001b[1;33m\u001b[0m\u001b[0m\n\u001b[0;32m      3\u001b[0m \u001b[0marray\u001b[0m\u001b[1;33m(\u001b[0m\u001b[1;34m'i'\u001b[0m\u001b[1;33m,\u001b[0m \u001b[1;33m[\u001b[0m\u001b[1;36m1\u001b[0m\u001b[1;33m,\u001b[0m\u001b[1;36m2\u001b[0m\u001b[1;33m,\u001b[0m\u001b[1;36m3\u001b[0m\u001b[1;33m]\u001b[0m\u001b[1;33m)\u001b[0m\u001b[1;33m\u001b[0m\u001b[1;33m\u001b[0m\u001b[0m\n\u001b[1;32m----> 4\u001b[1;33m \u001b[0mprint\u001b[0m\u001b[1;33m(\u001b[0m\u001b[0marray\u001b[0m\u001b[1;33m[\u001b[0m\u001b[1;36m0\u001b[0m\u001b[1;33m]\u001b[0m\u001b[1;33m)\u001b[0m\u001b[1;33m\u001b[0m\u001b[1;33m\u001b[0m\u001b[0m\n\u001b[0m",
      "\u001b[1;31mTypeError\u001b[0m: 'type' object is not subscriptable"
     ]
    }
   ],
   "source": [
    "from array import array\n",
    "\n",
    "array('i', [1,2,3])\n",
    "print(array[0])"
   ]
  },
  {
   "cell_type": "markdown",
   "id": "ffe0e167",
   "metadata": {},
   "source": [
    "## Debugging"
   ]
  },
  {
   "cell_type": "markdown",
   "id": "54604824",
   "metadata": {},
   "source": [
    "* linting\n",
    "* ide / editor\n",
    "* read errors\n",
    "* pdb : https://docs.python.org/3/library/pdb.html"
   ]
  },
  {
   "cell_type": "code",
   "execution_count": 242,
   "id": "42cc6b32",
   "metadata": {},
   "outputs": [
    {
     "name": "stdout",
     "output_type": "stream",
     "text": [
      "> \u001b[1;32mc:\\users\\hisup\\appdata\\local\\temp\\ipykernel_14664\\3346114300.py\u001b[0m(5)\u001b[0;36madd\u001b[1;34m()\u001b[0m\n",
      "\n",
      "ipdb> a\n",
      "num1 = 4\n",
      "num2 = 5\n",
      "ipdb> num2 = 'afds'\n",
      "ipdb> next\n",
      "TypeError: unsupported operand type(s) for +: 'int' and 'str'\n",
      "> \u001b[1;32mc:\\users\\hisup\\appdata\\local\\temp\\ipykernel_14664\\3346114300.py\u001b[0m(5)\u001b[0;36madd\u001b[1;34m()\u001b[0m\n",
      "\n",
      "ipdb> a\n",
      "num1 = 4\n",
      "num2 = 'afds'\n",
      "ipdb> clear\n",
      "Clear all breaks? y\n",
      "ipdb> continue\n"
     ]
    },
    {
     "ename": "TypeError",
     "evalue": "unsupported operand type(s) for +: 'int' and 'str'",
     "output_type": "error",
     "traceback": [
      "\u001b[1;31m---------------------------------------------------------------------------\u001b[0m",
      "\u001b[1;31mTypeError\u001b[0m                                 Traceback (most recent call last)",
      "\u001b[1;32m~\\AppData\\Local\\Temp\\ipykernel_14664\\3346114300.py\u001b[0m in \u001b[0;36m<module>\u001b[1;34m\u001b[0m\n\u001b[0;32m      4\u001b[0m     \u001b[0mpdb\u001b[0m\u001b[1;33m.\u001b[0m\u001b[0mset_trace\u001b[0m\u001b[1;33m(\u001b[0m\u001b[1;33m)\u001b[0m\u001b[1;33m\u001b[0m\u001b[1;33m\u001b[0m\u001b[0m\n\u001b[0;32m      5\u001b[0m     \u001b[1;32mreturn\u001b[0m \u001b[0mnum1\u001b[0m \u001b[1;33m+\u001b[0m \u001b[0mnum2\u001b[0m\u001b[1;33m\u001b[0m\u001b[1;33m\u001b[0m\u001b[0m\n\u001b[1;32m----> 6\u001b[1;33m \u001b[0madd\u001b[0m\u001b[1;33m(\u001b[0m\u001b[1;36m4\u001b[0m\u001b[1;33m,\u001b[0m \u001b[1;36m5\u001b[0m\u001b[1;33m)\u001b[0m\u001b[1;33m\u001b[0m\u001b[1;33m\u001b[0m\u001b[0m\n\u001b[0m",
      "\u001b[1;32m~\\AppData\\Local\\Temp\\ipykernel_14664\\3346114300.py\u001b[0m in \u001b[0;36madd\u001b[1;34m(num1, num2)\u001b[0m\n\u001b[0;32m      3\u001b[0m \u001b[1;32mdef\u001b[0m \u001b[0madd\u001b[0m\u001b[1;33m(\u001b[0m\u001b[0mnum1\u001b[0m\u001b[1;33m,\u001b[0m \u001b[0mnum2\u001b[0m\u001b[1;33m)\u001b[0m\u001b[1;33m:\u001b[0m\u001b[1;33m\u001b[0m\u001b[1;33m\u001b[0m\u001b[0m\n\u001b[0;32m      4\u001b[0m     \u001b[0mpdb\u001b[0m\u001b[1;33m.\u001b[0m\u001b[0mset_trace\u001b[0m\u001b[1;33m(\u001b[0m\u001b[1;33m)\u001b[0m\u001b[1;33m\u001b[0m\u001b[1;33m\u001b[0m\u001b[0m\n\u001b[1;32m----> 5\u001b[1;33m     \u001b[1;32mreturn\u001b[0m \u001b[0mnum1\u001b[0m \u001b[1;33m+\u001b[0m \u001b[0mnum2\u001b[0m\u001b[1;33m\u001b[0m\u001b[1;33m\u001b[0m\u001b[0m\n\u001b[0m\u001b[0;32m      6\u001b[0m \u001b[0madd\u001b[0m\u001b[1;33m(\u001b[0m\u001b[1;36m4\u001b[0m\u001b[1;33m,\u001b[0m \u001b[1;36m5\u001b[0m\u001b[1;33m)\u001b[0m\u001b[1;33m\u001b[0m\u001b[1;33m\u001b[0m\u001b[0m\n",
      "\u001b[1;31mTypeError\u001b[0m: unsupported operand type(s) for +: 'int' and 'str'"
     ]
    }
   ],
   "source": [
    "import pdb\n",
    "\n",
    "def add(num1, num2):\n",
    "    pdb.set_trace()\n",
    "    return num1 + num2\n",
    "add(4, 5)"
   ]
  },
  {
   "cell_type": "markdown",
   "id": "7d0cf871",
   "metadata": {},
   "source": [
    "## File I/O"
   ]
  },
  {
   "cell_type": "markdown",
   "id": "22b40d9a",
   "metadata": {},
   "source": [
    "* It has to contain **open('file_name')** and **file_name.close()** in the python file"
   ]
  },
  {
   "cell_type": "markdown",
   "id": "eb2d011a",
   "metadata": {},
   "source": [
    "### Read File \n",
    "* The code is in file_text.py \n",
    "* use **file_name.read() + file_name.seek(0)** or **file_name.readline()** or **file_name.readlines()** to read file\n"
   ]
  },
  {
   "cell_type": "code",
   "execution_count": 243,
   "id": "24b4833a",
   "metadata": {},
   "outputs": [],
   "source": [
    "!touch file_text.py"
   ]
  },
  {
   "cell_type": "code",
   "execution_count": 244,
   "id": "a9789a03",
   "metadata": {},
   "outputs": [],
   "source": [
    "!touch file_test.txt"
   ]
  },
  {
   "cell_type": "code",
   "execution_count": 245,
   "id": "0294f5ec",
   "metadata": {},
   "outputs": [
    {
     "name": "stdout",
     "output_type": "stream",
     "text": [
      "<_io.TextIOWrapper name='file_test.txt' mode='r' encoding='cp1252'>\n"
     ]
    }
   ],
   "source": [
    "!python file_text.py"
   ]
  },
  {
   "cell_type": "code",
   "execution_count": 247,
   "id": "49cc8734",
   "metadata": {},
   "outputs": [
    {
     "name": "stdout",
     "output_type": "stream",
     "text": [
      "hi my name is Joyce, hi hi hi\n"
     ]
    }
   ],
   "source": [
    "!python file_text.py"
   ]
  },
  {
   "cell_type": "code",
   "execution_count": 248,
   "id": "af0f8069",
   "metadata": {},
   "outputs": [
    {
     "name": "stdout",
     "output_type": "stream",
     "text": [
      "hi my name is Joyce, hi hi hi\n",
      "hi my name is Joyce, hi hi hi\n",
      "hi my name is Joyce, hi hi hi\n"
     ]
    }
   ],
   "source": [
    "!python file_text.py"
   ]
  },
  {
   "cell_type": "code",
   "execution_count": 249,
   "id": "2be61732",
   "metadata": {},
   "outputs": [
    {
     "name": "stdout",
     "output_type": "stream",
     "text": [
      "hi my name is Joyce, hi hi hi\n",
      ":) \n",
      ":0 \n",
      ":(\n",
      "hi my name is Joyce, hi hi hi\n",
      ":) \n",
      ":0 \n",
      ":(\n",
      "hi my name is Joyce, hi hi hi\n",
      ":) \n",
      ":0 \n",
      ":(\n"
     ]
    }
   ],
   "source": [
    "!python file_text.py"
   ]
  },
  {
   "cell_type": "code",
   "execution_count": 250,
   "id": "04e82c2d",
   "metadata": {},
   "outputs": [
    {
     "name": "stdout",
     "output_type": "stream",
     "text": [
      "['hi my name is Joyce, hi hi hi\\n', ':) \\n', ':0 \\n', ':(']\n"
     ]
    }
   ],
   "source": [
    "!python file_text.py"
   ]
  },
  {
   "cell_type": "code",
   "execution_count": 251,
   "id": "a0dab622",
   "metadata": {},
   "outputs": [
    {
     "name": "stdout",
     "output_type": "stream",
     "text": [
      "hi my name is Joyce, hi hi hi\n",
      "\n",
      ":) \n",
      "\n",
      ":0 \n",
      "\n",
      ":(\n",
      "[]\n"
     ]
    }
   ],
   "source": [
    "!python file_text.py"
   ]
  },
  {
   "cell_type": "code",
   "execution_count": 252,
   "id": "23beafa4",
   "metadata": {},
   "outputs": [
    {
     "name": "stdout",
     "output_type": "stream",
     "text": [
      "['hi my name is Joyce, hi hi hi\\n', ':) \\n', ':0 \\n', ':(']\n"
     ]
    }
   ],
   "source": [
    "!python file_text.py"
   ]
  },
  {
   "cell_type": "code",
   "execution_count": 254,
   "id": "98f05070",
   "metadata": {},
   "outputs": [
    {
     "name": "stdout",
     "output_type": "stream",
     "text": [
      "no need to worry close the flie ['hi my name is Joyce, hi hi hi\\n', ':) \\n', ':0 \\n', ':(']\n"
     ]
    }
   ],
   "source": [
    "!python file_text.py"
   ]
  },
  {
   "cell_type": "markdown",
   "id": "f7271dd2",
   "metadata": {},
   "source": [
    "### Write text in the file\n",
    "* The code is in file_text.py \n",
    "* use **open('file_name', mode='')** to write text in the file"
   ]
  },
  {
   "cell_type": "markdown",
   "id": "4fd6e4f7",
   "metadata": {},
   "source": [
    "`open('file_name', mode='r+')`\n",
    "* It will **overwrite the file** if there are texts exists in the file"
   ]
  },
  {
   "cell_type": "code",
   "execution_count": 256,
   "id": "3222543b",
   "metadata": {},
   "outputs": [
    {
     "name": "stdout",
     "output_type": "stream",
     "text": [
      "30\n"
     ]
    }
   ],
   "source": [
    "!python file_text.py"
   ]
  },
  {
   "cell_type": "markdown",
   "id": "a29dc700",
   "metadata": {},
   "source": [
    "`open('file_name', mode='a')`\n",
    "* It will **continue writing in the file** while there are texts exists in the file"
   ]
  },
  {
   "cell_type": "code",
   "execution_count": 258,
   "id": "e963ddb7",
   "metadata": {},
   "outputs": [
    {
     "name": "stdout",
     "output_type": "stream",
     "text": [
      "30\n"
     ]
    }
   ],
   "source": [
    "!python file_text.py"
   ]
  },
  {
   "cell_type": "markdown",
   "id": "159e8027",
   "metadata": {},
   "source": [
    "`open('file_name', mode='w')`\n",
    "* It will **assume it is a new file** while there are texts exists in the file\n",
    "\n",
    "`open('new_file_name', mode='w')`\n",
    "* It allows us to **create** a new file in the code "
   ]
  },
  {
   "cell_type": "code",
   "execution_count": 259,
   "id": "1c7fd7e6",
   "metadata": {},
   "outputs": [
    {
     "name": "stdout",
     "output_type": "stream",
     "text": [
      "30\n"
     ]
    }
   ],
   "source": [
    "!python file_text.py"
   ]
  },
  {
   "cell_type": "markdown",
   "id": "fb763928",
   "metadata": {},
   "source": [
    "### File Path\n",
    "* A useful library for file path: https://docs.python.org/3/library/pathlib.html\n",
    "* To access the file in the different folder\n",
    "\n",
    "`open('folder_name/file_name', mode='')`"
   ]
  },
  {
   "cell_type": "markdown",
   "id": "2160c682",
   "metadata": {},
   "source": [
    "### File IO Errors\n",
    "* The code is in file_text.py"
   ]
  },
  {
   "cell_type": "code",
   "execution_count": 41,
   "id": "93c9f72c",
   "metadata": {
    "scrolled": true
   },
   "outputs": [
    {
     "name": "stdout",
     "output_type": "stream",
     "text": [
      "<class 'str'>\n",
      "Hi! This is a translator.\n"
     ]
    },
    {
     "name": "stderr",
     "output_type": "stream",
     "text": [
      "Traceback (most recent call last):\n",
      "  File \"C:\\Users\\hisup\\Desktop\\Personal\\Personal Improvements\\Courses\\Python\\fundamentals\\file_text.py\", line 68, in <module>\n",
      "    print(translation)\n",
      "  File \"C:\\Users\\hisup\\anaconda3\\envs\\python_playground\\lib\\encodings\\cp1252.py\", line 19, in encode\n",
      "    return codecs.charmap_encode(input,self.errors,encoding_table)[0]\n",
      "UnicodeEncodeError: 'charmap' codec can't encode characters in position 0-9: character maps to <undefined>\n"
     ]
    }
   ],
   "source": [
    "!python file_text.py"
   ]
  },
  {
   "cell_type": "markdown",
   "id": "83b46f8e",
   "metadata": {},
   "source": [
    "### Exercise: Translation File"
   ]
  },
  {
   "cell_type": "code",
   "execution_count": null,
   "id": "dfc2fd2a",
   "metadata": {},
   "outputs": [],
   "source": [
    "# This will work directly from the command line.\n",
    "# Might be jupyter notebook encoding?\n",
    "# !python file_text.py"
   ]
  },
  {
   "cell_type": "code",
   "execution_count": 1,
   "id": "0856317b",
   "metadata": {},
   "outputs": [],
   "source": [
    "!touch translate_eng.txt"
   ]
  },
  {
   "cell_type": "code",
   "execution_count": 44,
   "id": "cffcd277",
   "metadata": {},
   "outputs": [
    {
     "data": {
      "text/plain": [
       "'亚历克斯是一名译员。'"
      ]
     },
     "execution_count": 44,
     "metadata": {},
     "output_type": "execute_result"
    }
   ],
   "source": [
    "from translate import Translator\n",
    "\n",
    "translator = Translator(to_lang=\"zh\")\n",
    "translator.translate('Hi! This is a translator.')"
   ]
  },
  {
   "cell_type": "code",
   "execution_count": 59,
   "id": "c7fb2766",
   "metadata": {},
   "outputs": [
    {
     "name": "stdout",
     "output_type": "stream",
     "text": [
      "亚历克斯是一名译员。\n"
     ]
    }
   ],
   "source": [
    "try: \n",
    "    with open('translate_eng.txt', mode='r') as my_file:\n",
    "        text = my_file.read()\n",
    "        translation = translator.translate(text)\n",
    "        print(translation)\n",
    "#         with open('translate_zh.txt', mode='w') as my_file2:\n",
    "#             new_text = my_file2.write(translation)\n",
    "#         print('new_text')\n",
    "except FileNotFoundError as err:\n",
    "    print('file does not exist')"
   ]
  },
  {
   "cell_type": "markdown",
   "id": "0aa4609f",
   "metadata": {},
   "source": [
    "## Regular Expressions"
   ]
  },
  {
   "cell_type": "markdown",
   "id": "7ab0e32a",
   "metadata": {},
   "source": [
    "`search(pattern, string, flags)`\n",
    "* It is powerful when you are searching **how many times search occurs in the string** or **search in a complicated string**\n",
    "* https://www.w3schools.com/python/python_regex.asp"
   ]
  },
  {
   "cell_type": "code",
   "execution_count": 100,
   "id": "1fef3053",
   "metadata": {},
   "outputs": [
    {
     "name": "stdout",
     "output_type": "stream",
     "text": [
      "<re.Match object; span=(17, 21), match='this'>\n",
      "None\n"
     ]
    }
   ],
   "source": [
    "import re\n",
    "\n",
    "string = 'search inside of this text please!'\n",
    "\n",
    "a = re.search('this',string)\n",
    "b = re.search('Ohla',string)\n",
    "print(a)\n",
    "print(b)"
   ]
  },
  {
   "cell_type": "markdown",
   "id": "e40a1d82",
   "metadata": {},
   "source": [
    "`span()`"
   ]
  },
  {
   "cell_type": "code",
   "execution_count": 101,
   "id": "0cf47956",
   "metadata": {
    "scrolled": true
   },
   "outputs": [
    {
     "name": "stdout",
     "output_type": "stream",
     "text": [
      "(17, 21)\n"
     ]
    }
   ],
   "source": [
    "print(a.span())"
   ]
  },
  {
   "cell_type": "markdown",
   "id": "6cf9423b",
   "metadata": {},
   "source": [
    "`start()` & `end()`"
   ]
  },
  {
   "cell_type": "code",
   "execution_count": 102,
   "id": "94675661",
   "metadata": {},
   "outputs": [
    {
     "name": "stdout",
     "output_type": "stream",
     "text": [
      "17\n"
     ]
    }
   ],
   "source": [
    "print(a.start())\n",
    "print(a.end())"
   ]
  },
  {
   "cell_type": "markdown",
   "id": "95f195c6",
   "metadata": {},
   "source": [
    "`group()`"
   ]
  },
  {
   "cell_type": "code",
   "execution_count": 103,
   "id": "a68c2d6b",
   "metadata": {},
   "outputs": [
    {
     "name": "stdout",
     "output_type": "stream",
     "text": [
      "this\n"
     ]
    },
    {
     "ename": "AttributeError",
     "evalue": "'NoneType' object has no attribute 'group'",
     "output_type": "error",
     "traceback": [
      "\u001b[1;31m---------------------------------------------------------------------------\u001b[0m",
      "\u001b[1;31mAttributeError\u001b[0m                            Traceback (most recent call last)",
      "Cell \u001b[1;32mIn[103], line 2\u001b[0m\n\u001b[0;32m      1\u001b[0m \u001b[38;5;28mprint\u001b[39m(a\u001b[38;5;241m.\u001b[39mgroup())\n\u001b[1;32m----> 2\u001b[0m \u001b[38;5;28mprint\u001b[39m(\u001b[43mb\u001b[49m\u001b[38;5;241;43m.\u001b[39;49m\u001b[43mgroup\u001b[49m())\n",
      "\u001b[1;31mAttributeError\u001b[0m: 'NoneType' object has no attribute 'group'"
     ]
    }
   ],
   "source": [
    "print(a.group())\n",
    "print(b.group())"
   ]
  },
  {
   "cell_type": "markdown",
   "id": "6d511367",
   "metadata": {},
   "source": [
    "`compile(pattern)`\n",
    "* RegEx provides regular expressions and a testing ground for developers: https://regex101.com/"
   ]
  },
  {
   "cell_type": "code",
   "execution_count": 134,
   "id": "c4d1326d",
   "metadata": {},
   "outputs": [
    {
     "name": "stdout",
     "output_type": "stream",
     "text": [
      "see\n",
      "see\n"
     ]
    }
   ],
   "source": [
    "pattern = re.compile('see')\n",
    "pattern2 = re.compile(r\"([a-zA-Z]).([e])\")\n",
    "string2 = 'see you later! Joyce'\n",
    "\n",
    "c = pattern.search(string2)\n",
    "cr = pattern2.search(string2)\n",
    "print(c.group())\n",
    "print(cr.group(0))"
   ]
  },
  {
   "cell_type": "markdown",
   "id": "89fa228b",
   "metadata": {},
   "source": [
    "`findall(string_name)`"
   ]
  },
  {
   "cell_type": "code",
   "execution_count": 95,
   "id": "2b5b19f3",
   "metadata": {},
   "outputs": [
    {
     "name": "stdout",
     "output_type": "stream",
     "text": [
      "['see', 'see']\n"
     ]
    }
   ],
   "source": [
    "pattern = re.compile('see')\n",
    "string2 = 'see you later see! Joyce'\n",
    "\n",
    "cc = pattern.findall(string2)\n",
    "print(cc)"
   ]
  },
  {
   "cell_type": "markdown",
   "id": "081b9824",
   "metadata": {},
   "source": [
    "`fullmatch(string_name)`"
   ]
  },
  {
   "cell_type": "code",
   "execution_count": 96,
   "id": "58c686f4",
   "metadata": {},
   "outputs": [
    {
     "name": "stdout",
     "output_type": "stream",
     "text": [
      "None\n"
     ]
    }
   ],
   "source": [
    "pattern = re.compile('see you later see? Joyce')\n",
    "string2 = 'see you later see! Joyce'\n",
    "\n",
    "ccc = pattern.fullmatch(string2)\n",
    "print(ccc)"
   ]
  },
  {
   "cell_type": "markdown",
   "id": "1c5c6129",
   "metadata": {},
   "source": [
    "`match(string_name)`"
   ]
  },
  {
   "cell_type": "code",
   "execution_count": 99,
   "id": "d6c07ea2",
   "metadata": {},
   "outputs": [
    {
     "name": "stdout",
     "output_type": "stream",
     "text": [
      "<re.Match object; span=(0, 18), match='see you later see!'>\n"
     ]
    }
   ],
   "source": [
    "pattern = re.compile('see you later see!')\n",
    "string2 = 'see you later see! Joyce'\n",
    "\n",
    "cccc = pattern.match(string2)\n",
    "print(cccc)"
   ]
  },
  {
   "cell_type": "code",
   "execution_count": null,
   "id": "7c889a93",
   "metadata": {},
   "outputs": [],
   "source": []
  }
 ],
 "metadata": {
  "kernelspec": {
   "display_name": "Python [conda env:python_playground]",
   "language": "python",
   "name": "conda-env-python_playground-py"
  },
  "language_info": {
   "codemirror_mode": {
    "name": "ipython",
    "version": 3
   },
   "file_extension": ".py",
   "mimetype": "text/x-python",
   "name": "python",
   "nbconvert_exporter": "python",
   "pygments_lexer": "ipython3",
   "version": "3.9.15"
  }
 },
 "nbformat": 4,
 "nbformat_minor": 5
}
