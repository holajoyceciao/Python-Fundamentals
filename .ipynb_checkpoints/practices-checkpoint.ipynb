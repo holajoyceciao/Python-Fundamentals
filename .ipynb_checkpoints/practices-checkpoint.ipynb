{
 "cells": [
  {
   "cell_type": "code",
   "execution_count": 1,
   "id": "f5172ac5",
   "metadata": {},
   "outputs": [
    {
     "name": "stdout",
     "output_type": "stream",
     "text": [
      "What year were you born?1992\n",
      "30\n",
      "My age is 30\n"
     ]
    }
   ],
   "source": [
    "# TYPE CONVERSION\n",
    "birth_year = input('What year were you born?')\n",
    "age = 2022 - int(birth_year)\n",
    "print(age)\n",
    "print(f'My age is {age}')\n"
   ]
  },
  {
   "cell_type": "code",
   "execution_count": 2,
   "id": "2e35101a",
   "metadata": {},
   "outputs": [
    {
     "name": "stdout",
     "output_type": "stream",
     "text": [
      "Enter your username.joyce\n",
      "Enter your password.gasd\n",
      "joyce, your password **** is 4 letters long\n"
     ]
    }
   ],
   "source": [
    "# PASSWORD CHECKER\n",
    "userName = input('Enter your username.')\n",
    "password = input('Enter your password.')\n",
    "password_length = len(password[0:])\n",
    "password_hidden = '*' * password_length\n",
    "print(f'{userName}, your password {password_hidden} is {password_length} letters long')\n"
   ]
  },
  {
   "cell_type": "code",
   "execution_count": 3,
   "id": "5db66015",
   "metadata": {},
   "outputs": [
    {
     "name": "stdout",
     "output_type": "stream",
     "text": [
      "b\n",
      "b\n",
      "['b', 'c']\n",
      "['z', 'b', 'c']\n",
      "['z', 2, 3]\n",
      "[1, 2, 3, 5]\n"
     ]
    }
   ],
   "source": [
    "# LIST SLICING\n",
    "#What is the output of this code?\n",
    "new_list = ['a', 'b', 'c'] \n",
    "print(new_list[1])  \n",
    "# b\n",
    "print(new_list[-2])\n",
    "# b\n",
    "print(new_list[1:3])\n",
    "# ['b','c']\n",
    "new_list[0] = 'z'\n",
    "print(new_list)\n",
    "# ['z','b','c']\n",
    "my_list = [1,2,3]\n",
    "bonus = my_list + [5]\n",
    "my_list[0] = 'z'\n",
    "print(my_list)\n",
    "# ['z',2,3]\n",
    "print(bonus)\n",
    "# [1,2,3,5]"
   ]
  },
  {
   "cell_type": "code",
   "execution_count": 4,
   "id": "623bd6c7",
   "metadata": {},
   "outputs": [
    {
     "name": "stdout",
     "output_type": "stream",
     "text": [
      "Oranges\n"
     ]
    }
   ],
   "source": [
    "# MATRIX \n",
    "basket = [\n",
    "  \"Banana\", \n",
    "  [\"Apples\", \n",
    "   [\"Oranges\"], \n",
    "   \"Blueberries\"\n",
    "  ]\n",
    "];\n",
    "# get the 'Oranges'\n",
    "print(basket[1][1][0])\n"
   ]
  },
  {
   "cell_type": "code",
   "execution_count": 5,
   "id": "6364dde6",
   "metadata": {},
   "outputs": [
    {
     "name": "stdout",
     "output_type": "stream",
     "text": [
      "['Apples', 'Oranges', 'Blueberries']\n",
      "['Apples', 'Oranges']\n",
      "['Apples', 'Oranges', 'Kiwi']\n",
      "['Apples', 'Apples', 'Oranges', 'Kiwi']\n",
      "2\n",
      "[]\n",
      "['Amira', 'Carrie', 'Chu', 'Joy', 'Patty', 'Simon', 'Stanley']\n"
     ]
    }
   ],
   "source": [
    "# LIST METHODS & KEYWORDS\n",
    "basket = [\"Banana\", \"Apples\", \"Oranges\", \"Blueberries\"];\n",
    "# 1. Remove the Banana from the list\n",
    "basket.pop(0)\n",
    "print(basket)\n",
    "# 2. Remove \"Blueberries\" from the list.\n",
    "basket.remove('Blueberries')\n",
    "print(basket)\n",
    "# 3. Put \"Kiwi\" at the end of the list.\n",
    "basket.append('Kiwi')\n",
    "print(basket)\n",
    "# 4. Add \"Apples\" at the beginning of the list\n",
    "basket.insert(0, 'Apples')\n",
    "print(basket)\n",
    "# 5. Count how many apples in the basket\n",
    "print(basket.count('Apples'))\n",
    "# 6. empty the basket\n",
    "basket.clear()\n",
    "print(basket)\n",
    "#fix this code so that it prints a sorted list of all of our friends (alphabetical). \n",
    "friends = ['Simon', 'Patty', 'Joy', 'Carrie', 'Amira', 'Chu']\n",
    "new_friend = ['Stanley']\n",
    "sorted_friends = sorted(friends)\n",
    "print(sorted_friends + new_friend)\n"
   ]
  },
  {
   "cell_type": "code",
   "execution_count": 6,
   "id": "6bd73b72",
   "metadata": {},
   "outputs": [
    {
     "name": "stdout",
     "output_type": "stream",
     "text": [
      "dict_keys(['age', 'username', 'weapons', 'is_active', 'clan'])\n",
      "{'age': 30, 'username': 'bbyy', 'weapons': ['gun', 'knife'], 'is_active': True, 'clan': 'Chinese'}\n",
      "{'age': 30, 'username': 'bbyy', 'weapons': ['gun', 'knife'], 'is_active': True, 'clan': 'Chinese', 'is_banned': False}\n",
      "{'age': 30, 'username': 'bbyy', 'weapons': ['gun', 'knife'], 'is_active': True, 'clan': 'Chinese', 'is_banned': True}\n",
      "{'age': 25, 'username': 'ccjj', 'weapons': ['gun', 'knife'], 'is_active': True, 'clan': 'Chinese', 'is_banned': True}\n"
     ]
    }
   ],
   "source": [
    "# DICTIONARY\n",
    "#1 Create a user profile for your new game. This user profile will be stored in a dictionary with keys: 'age', 'username', 'weapons', 'is_active' and 'clan'\n",
    "user = {\n",
    "  'age' : 30,\n",
    "  'username' : 'bbyy',\n",
    "  'weapons' : ['gun'],\n",
    "  'is_active' : True,\n",
    "  'clan' : 'Chinese'\n",
    "}\n",
    "#2 iterate and print all the keys in the above user.\n",
    "print(user.keys()) \n",
    "#3 Add a new weapon to your user\n",
    "user['weapons'].append('knife')\n",
    "print(user)\n",
    "#4 Add a new key to include 'is_banned'. Set it to false\n",
    "user.update({'is_banned' : False})\n",
    "print(user)\n",
    "#5 Ban the user by setting the previous key to True\n",
    "user['is_banned'] = True\n",
    "print(user)\n",
    "#6 create a new user2 my copying the previous user and update the age value and username value. \n",
    "user2 = user.copy()\n",
    "user2.update({'age':25})\n",
    "user2.update({'username': 'ccjj'})\n",
    "print(user2)"
   ]
  },
  {
   "cell_type": "code",
   "execution_count": 3,
   "id": "c2a3831e",
   "metadata": {},
   "outputs": [
    {
     "name": "stdout",
     "output_type": "stream",
     "text": [
      "{'Tammy'}\n"
     ]
    }
   ],
   "source": [
    "# SET PRACTICE\n",
    "\n",
    "# You are working for the school Principal. We have a database of school students:\n",
    "school = {'Bobby','Tammy','Jammy','Sally','Danny'}\n",
    "\n",
    "#during class, the teachers take attendance and compile it into a list. \n",
    "attendance_list = ['Jammy', 'Bobby', 'Danny', 'Sally']\n",
    "\n",
    "#using what you learned about sets, create a piece of code that the school principal \n",
    "# can use to immediately find out who missed class so they can call the parents. \n",
    "# (Imagine if the list had 1000s of students. The principal can use the lists generated \n",
    "# by the teachers + the school database to use python and make his/her job easier): \n",
    "# Find the students that miss class!\n",
    "\n",
    "# Don't have to convert the list to set, the function does it for you.\n",
    "print(school.difference(attendance_list))"
   ]
  },
  {
   "cell_type": "code",
   "execution_count": 11,
   "id": "2f62218c",
   "metadata": {},
   "outputs": [
    {
     "name": "stdout",
     "output_type": "stream",
     "text": [
      "you need magic powers\n"
     ]
    }
   ],
   "source": [
    "# Logical Operators\n",
    "\n",
    "is_magician = False\n",
    "is_expert = True\n",
    "# check if magician AND expert : \"you are a master magician\"\n",
    "# check if magician but not expert : \"at least you're getting there\"\n",
    "# if you're not a magician: \"you need magic powers\"\n",
    "if is_magician and is_expert: \n",
    "    print('you are a master magician')\n",
    "elif is_magician and not is_expert:\n",
    "    print(\"at least you're getting there\")\n",
    "elif not is_magician:\n",
    "    print('you need magic powers')\n"
   ]
  },
  {
   "cell_type": "markdown",
   "id": "cb9e6ba3",
   "metadata": {},
   "source": [
    "## For Loop"
   ]
  },
  {
   "cell_type": "code",
   "execution_count": 17,
   "id": "1a85cd97",
   "metadata": {},
   "outputs": [
    {
     "name": "stdout",
     "output_type": "stream",
     "text": [
      "55\n"
     ]
    }
   ],
   "source": [
    "# loop the list and sum up the total\n",
    "my_list = [1,2,3,4,5,6,7,8,9,10]\n",
    "counter = 0\n",
    "for item in my_list:\n",
    "    counter = counter + item\n",
    "print(counter)"
   ]
  },
  {
   "cell_type": "code",
   "execution_count": 70,
   "id": "820204fb",
   "metadata": {
    "scrolled": false
   },
   "outputs": [
    {
     "name": "stdout",
     "output_type": "stream",
     "text": [
      "   *   \n",
      "  ***  \n",
      " ***** \n",
      "*******\n",
      "   *   \n",
      "   *   \n"
     ]
    }
   ],
   "source": [
    "# Display the image below to the right hand side where the 0 is going to \n",
    "# be ' ', and the 1 is going to be '*'. This will reveal an image!\n",
    "picture = [\n",
    "  [0,0,0,1,0,0,0],\n",
    "  [0,0,1,1,1,0,0],\n",
    "  [0,1,1,1,1,1,0],\n",
    "  [1,1,1,1,1,1,1],\n",
    "  [0,0,0,1,0,0,0],\n",
    "  [0,0,0,1,0,0,0]\n",
    "]\n",
    "\n",
    "# iterate over picture\n",
    "# if 0 -> print ''\n",
    "# if 1 -> print *\n",
    "\n",
    "fill = '*'\n",
    "empty = ' '\n",
    "for row in picture:\n",
    "    for value in row:\n",
    "        if value:\n",
    "            print(fill, end = '')\n",
    "        else:\n",
    "            print(empty, end = '')\n",
    "    # need a new line to every row\n",
    "    print('') \n"
   ]
  },
  {
   "cell_type": "code",
   "execution_count": 99,
   "id": "dee7f765",
   "metadata": {},
   "outputs": [
    {
     "name": "stdout",
     "output_type": "stream",
     "text": [
      "['b', 'n']\n"
     ]
    }
   ],
   "source": [
    "# Check for duplicates in list:\n",
    "some_list = ['a', 'b', 'c', 'b', 'd', 'm', 'n', 'n']\n",
    "\n",
    "# iterate over list\n",
    "# if duplicates length > 1 -> print it\n",
    "duplicates = []\n",
    "for element in some_list:\n",
    "    number = some_list.count(element)\n",
    "    if number > 1:\n",
    "        if element not in duplicates:\n",
    "            duplicates.append(element)\n",
    "print(duplicates)\n",
    "# new_list = []\n",
    "# for item in duplicates:\n",
    "#     if item not in new_list:\n",
    "#         new_list.append(item)\n",
    "# print(new_list)"
   ]
  },
  {
   "cell_type": "code",
   "execution_count": 135,
   "id": "5592bb3b",
   "metadata": {},
   "outputs": [
    {
     "name": "stdout",
     "output_type": "stream",
     "text": [
      "What is your age?: 92\n",
      "0\n",
      "Sorry, you are too young to drive this car. Powering off\n"
     ]
    }
   ],
   "source": [
    "age = input(\"What is your age?: \")\n",
    "def checkDriverAge(age = 0):\n",
    "    print(age)\n",
    "    if int(age) < 18:\n",
    "        print(\"Sorry, you are too young to drive this car. Powering off\")\n",
    "    elif int(age) > 18:\n",
    "        print(\"Powering On. Enjoy the ride!\");\n",
    "    elif int(age) == 18:\n",
    "        print(\"Congratulations on your first year of driving. Enjoy the ride!\")     \n",
    "checkDriverAge()\n",
    "#1. Wrap the above code in a function called checkDriverAge(). Whenever you call this function, you will get prompted for age. \n",
    "# Notice the benefit in having checkDriverAge() instead of copying and pasting the function everytime?\n",
    "\n",
    "#2 Instead of using the input(). Now, make the checkDriverAge() function accept an argument of age, so that if you enter:\n",
    "#checkDriverAge(92);\n",
    "#it returns \"Powering On. Enjoy the ride!\"\n",
    "#also make it so that the default age is set to 0 if no argument is given."
   ]
  },
  {
   "cell_type": "code",
   "execution_count": 9,
   "id": "457c2525",
   "metadata": {},
   "outputs": [
    {
     "name": "stdout",
     "output_type": "stream",
     "text": [
      "10\n"
     ]
    }
   ],
   "source": [
    "def highest_even(li):\n",
    "    evens = []\n",
    "    for item in li:\n",
    "        if item % 2 == 0:\n",
    "            evens.append(item)\n",
    "    return max(evens)\n",
    "    \n",
    "print(highest_even([10,2,3,4,8,11]))"
   ]
  },
  {
   "cell_type": "code",
   "execution_count": 161,
   "id": "7110ba94",
   "metadata": {},
   "outputs": [
    {
     "name": "stdout",
     "output_type": "stream",
     "text": [
      "The oldest cat's name is YY and it is 10 years old.\n"
     ]
    }
   ],
   "source": [
    "# Solution 1\n",
    "#Given the below class:\n",
    "class Cat:\n",
    "    species = 'mammal'\n",
    "    def __init__(self, name, age):\n",
    "        self.name = name\n",
    "        self.age = age\n",
    "\n",
    "# 1 Instantiate the Cat object with 3 cats\n",
    "cat1 = Cat('JJ', 2)\n",
    "cat2 = Cat('YY', 10)\n",
    "cat3 = Cat('TT', 5)\n",
    "\n",
    "# 2 Create a function that finds the oldest cat \n",
    "\n",
    "# convert to dictionary (avoid using dunder methods)\n",
    "cat_dic1 = cat1.__dict__\n",
    "cat_dic2 = cat2.__dict__\n",
    "cat_dic3 = cat3.__dict__\n",
    "cat_group = []\n",
    "cat_group.extend([cat_dic1,cat_dic2,cat_dic3])\n",
    "\n",
    "def filter_age():\n",
    "    age_group = []\n",
    "    max_age = ''\n",
    "    max_name = ''\n",
    "    for item in cat_group:      \n",
    "        if item.get('age'):\n",
    "            age_group.append(str(item.get('age')))\n",
    "            age_group.sort()\n",
    "        max_age = int(age_group[0])\n",
    "        if max_age == item.get('age'):\n",
    "            max_name = item.get('name')\n",
    "    return f'The oldest cat\\'s name is {max_name} and it is {max_age} years old.'\n",
    "    \n",
    "# 3 Print out: \"The oldest cat is x years old.\". x will be the oldest cat age by using the function in #2\n",
    "print(filter_age())"
   ]
  },
  {
   "cell_type": "code",
   "execution_count": 179,
   "id": "a6f75fb6",
   "metadata": {},
   "outputs": [
    {
     "name": "stdout",
     "output_type": "stream",
     "text": [
      "The oldest cat's name is YY and it is 10 years old.\n"
     ]
    }
   ],
   "source": [
    "# Solution 2\n",
    "# convert to dictionary\n",
    "cats = {\n",
    "    cat1.name: cat1.age,\n",
    "    cat2.name: cat2.age,\n",
    "    cat3.name: cat3.age\n",
    "}\n",
    "oldest_cat = {'name': '', 'age': 0}\n",
    "\n",
    "def filter_age():\n",
    "    for key in cats:\n",
    "        if cats[key] > oldest_cat['age']:\n",
    "            oldest_cat['age'] = cats[key]\n",
    "            oldest_cat['name'] = key\n",
    "    return 'The oldest cat\\'s name is ' + oldest_cat['name'] + ' and it is ' + str(oldest_cat['age'])+' years old.'\n",
    "\n",
    "print(filter_age())"
   ]
  },
  {
   "cell_type": "code",
   "execution_count": 181,
   "id": "eae8277c",
   "metadata": {},
   "outputs": [
    {
     "name": "stdout",
     "output_type": "stream",
     "text": [
      "The oldest cat is 10 years old.\n"
     ]
    }
   ],
   "source": [
    "# Solution 3\n",
    "\n",
    "# Find the oldest cat\n",
    "def filter_age(*args):\n",
    "    return max(args)\n",
    "\n",
    "# Output\n",
    "print(f\"The oldest cat is {filter_age(cat1.age, cat2.age, cat3.age)} years old.\")"
   ]
  },
  {
   "cell_type": "code",
   "execution_count": 194,
   "id": "a84c1b76",
   "metadata": {},
   "outputs": [
    {
     "name": "stdout",
     "output_type": "stream",
     "text": [
      "Simon is just walking around\n",
      "Sally is just walking around\n",
      "Rachel is just walking around\n"
     ]
    }
   ],
   "source": [
    "class Pets():\n",
    "    animals = []\n",
    "    def __init__(self, animals):\n",
    "        self.animals = animals\n",
    "\n",
    "    def walk(self):\n",
    "        for animal in self.animals:\n",
    "            print(animal.walk())\n",
    "\n",
    "class Cat():\n",
    "    is_lazy = True\n",
    "\n",
    "    def __init__(self, name, age):\n",
    "        self.name = name\n",
    "        self.age = age\n",
    "\n",
    "    def walk(self):\n",
    "        return f'{self.name} is just walking around'\n",
    "\n",
    "class Simon(Cat):\n",
    "    def sing(self, sounds):\n",
    "        return f'{sounds}'\n",
    "\n",
    "class Sally(Cat):\n",
    "    def sing(self, sounds):\n",
    "        return f'{sounds}'\n",
    "\n",
    "#1 Add another Cat\n",
    "class Rachel(Cat):\n",
    "    def sing(self, sounds):\n",
    "        return f'{sounds}'\n",
    "    \n",
    "#2 Create a list of all of the pets (create 3 cat instances from the above)\n",
    "my_cats = [(Simon('Simon', 12)),(Sally('Sally', 5)),Rachel('Rachel', 18)]\n",
    "\n",
    "#3 Instantiate the Pet class with all your cats use variable my_pets\n",
    "my_pets = Pets(my_cats)\n",
    "\n",
    "#4 Output all of the cats walking using the my_pets instance\n",
    "my_pets.walk()"
   ]
  },
  {
   "cell_type": "code",
   "execution_count": 220,
   "id": "37bd9590",
   "metadata": {},
   "outputs": [
    {
     "name": "stdout",
     "output_type": "stream",
     "text": [
      "100\n",
      "5\n"
     ]
    }
   ],
   "source": [
    "class SuperList(list):\n",
    "    def __len__(self):\n",
    "        return 100\n",
    "    \n",
    "super_list1 = SuperList();\n",
    "print(len(super_list1))\n",
    "super_list1.append(5)\n",
    "print(super_list1[0])"
   ]
  },
  {
   "cell_type": "code",
   "execution_count": 288,
   "id": "95a29162",
   "metadata": {},
   "outputs": [
    {
     "name": "stdout",
     "output_type": "stream",
     "text": [
      "['SISI', 'BIBI', 'TITI', 'CARLA']\n",
      "[('a', 1), ('b', 2), ('c', 3), ('d', 4), ('e', 5)]\n",
      "[73, 65, 76, 100, 88]\n",
      "456\n"
     ]
    }
   ],
   "source": [
    "from functools import reduce\n",
    "\n",
    "#1 Capitalize all of the pet names and print the list\n",
    "my_pets = ['sisi', 'bibi', 'titi', 'carla']\n",
    "\n",
    "def cap_name(item):\n",
    "    return item.upper()\n",
    "\n",
    "pets_name = list(map(cap_name, my_pets))\n",
    "print(pets_name)\n",
    "\n",
    "#2 Zip the 2 lists into a list of tuples, but sort the numbers from lowest to highest.\n",
    "my_strings = ['a', 'b', 'c', 'd', 'e']\n",
    "my_numbers = [5,4,3,2,1]\n",
    "\n",
    "zip_lists = list(zip(my_strings, sorted(my_numbers)))\n",
    "print(zip_lists)\n",
    "\n",
    "#3 Filter the scores that pass over 50%\n",
    "scores = [73, 20, 65, 19, 76, 100, 88]\n",
    "\n",
    "def only_pass(item):\n",
    "    return item > 50\n",
    "\n",
    "filter_scores = list(filter(only_pass, scores))\n",
    "\n",
    "print(filter_scores)\n",
    "\n",
    "#4 Combine all of the numbers that are in a list on this file using reduce (my_numbers and scores). What is the total?\n",
    "# solution 1\n",
    "new_list = []\n",
    "new_list = my_numbers + scores\n",
    "\n",
    "def com_list(acc, item):\n",
    "    return acc + item\n",
    "\n",
    "total_num = reduce(com_list, new_list, 0)\n",
    "print(total_num)"
   ]
  },
  {
   "cell_type": "code",
   "execution_count": 330,
   "id": "e71693e2",
   "metadata": {},
   "outputs": [
    {
     "name": "stdout",
     "output_type": "stream",
     "text": [
      "[25, 16, 9]\n",
      "[(10, -1), (0, 2), (4, 3), (9, 9)]\n"
     ]
    }
   ],
   "source": [
    "# Square\n",
    "my_list = [5,4,3]\n",
    "square_list = list(map(lambda item: item**2, my_list))\n",
    "print(square_list)\n",
    "\n",
    "# List Sorting\n",
    "a = [(0,2), (4,3), (9,9), (10,-1)]\n",
    "a.sort(key= lambda x: x[1])\n",
    "print(a)"
   ]
  },
  {
   "cell_type": "code",
   "execution_count": 4,
   "id": "389d2c81",
   "metadata": {},
   "outputs": [
    {
     "name": "stdout",
     "output_type": "stream",
     "text": [
      "['b', 'n']\n",
      "['b', 'n']\n"
     ]
    }
   ],
   "source": [
    "#Comprehensions\n",
    "\n",
    "some_list = ['a', 'b', 'c', 'b', 'd', 'm', 'n', 'n']\n",
    "\n",
    "duplicates = []\n",
    "for value in some_list:\n",
    "    if some_list.count(value) > 1:\n",
    "        if value not in duplicates:\n",
    "            duplicates.append(value)\n",
    "\n",
    "print(duplicates) \n",
    "\n",
    "duplicates2 = list(set([v for v in some_list if some_list.count(v) > 1 ]))\n",
    "print(duplicates2)"
   ]
  },
  {
   "cell_type": "code",
   "execution_count": 5,
   "id": "d59173bb",
   "metadata": {},
   "outputs": [
    {
     "name": "stdout",
     "output_type": "stream",
     "text": [
      "message has been sent\n"
     ]
    }
   ],
   "source": [
    "# Create an @authenticated decorator that only allows the function to run is user1 has 'valid' set to True:\n",
    "user1 = {\n",
    "    'name': 'Sorna',\n",
    "    'valid': True #changing this will either run or not run the message_friends function.\n",
    "}\n",
    "\n",
    "def authenticated(fn):\n",
    "    def wrapper(*args, **kwargs):\n",
    "        if args[0]['valid']:\n",
    "            return fn(*args, **kwargs)\n",
    "        else:\n",
    "            return 'error'\n",
    "    return wrapper\n",
    "\n",
    "@authenticated\n",
    "def message_friends(user):\n",
    "    print('message has been sent')\n",
    "\n",
    "message_friends(user1)"
   ]
  },
  {
   "cell_type": "code",
   "execution_count": 7,
   "id": "03900614",
   "metadata": {},
   "outputs": [
    {
     "ename": "NameError",
     "evalue": "name 'random' is not defined",
     "output_type": "error",
     "traceback": [
      "\u001b[1;31m---------------------------------------------------------------------------\u001b[0m",
      "\u001b[1;31mNameError\u001b[0m                                 Traceback (most recent call last)",
      "\u001b[1;32m~\\AppData\\Local\\Temp\\ipykernel_18356\\3434687539.py\u001b[0m in \u001b[0;36m<module>\u001b[1;34m\u001b[0m\n\u001b[0;32m      8\u001b[0m \u001b[1;32mfrom\u001b[0m \u001b[0mrandom\u001b[0m \u001b[1;32mimport\u001b[0m \u001b[0mrandint\u001b[0m\u001b[1;33m\u001b[0m\u001b[1;33m\u001b[0m\u001b[0m\n\u001b[0;32m      9\u001b[0m \u001b[1;33m\u001b[0m\u001b[0m\n\u001b[1;32m---> 10\u001b[1;33m \u001b[0mrandom_num\u001b[0m \u001b[1;33m=\u001b[0m \u001b[0mrandom\u001b[0m\u001b[1;33m.\u001b[0m\u001b[0mrandint\u001b[0m\u001b[1;33m(\u001b[0m\u001b[1;36m1\u001b[0m\u001b[1;33m,\u001b[0m \u001b[1;36m10\u001b[0m\u001b[1;33m)\u001b[0m\u001b[1;33m\u001b[0m\u001b[1;33m\u001b[0m\u001b[0m\n\u001b[0m\u001b[0;32m     11\u001b[0m \u001b[0mprint\u001b[0m\u001b[1;33m(\u001b[0m\u001b[1;34m'random_num:'\u001b[0m\u001b[1;33m,\u001b[0m\u001b[0mrandom_num\u001b[0m\u001b[1;33m)\u001b[0m\u001b[1;33m\u001b[0m\u001b[1;33m\u001b[0m\u001b[0m\n\u001b[0;32m     12\u001b[0m \u001b[0mguess\u001b[0m \u001b[1;33m=\u001b[0m \u001b[0mint\u001b[0m\u001b[1;33m(\u001b[0m\u001b[0minput\u001b[0m\u001b[1;33m(\u001b[0m\u001b[1;33m)\u001b[0m\u001b[1;33m)\u001b[0m\u001b[1;33m\u001b[0m\u001b[1;33m\u001b[0m\u001b[0m\n",
      "\u001b[1;31mNameError\u001b[0m: name 'random' is not defined"
     ]
    }
   ],
   "source": [
    "# Guessing Game\n",
    "\n",
    "# generate a number 1~10\n",
    "# input from user?\n",
    "# check that input is a number 1~10\n",
    "# check if number is the right guess. Otherwise ask again\n",
    "\n",
    "from random import randint\n",
    "\n",
    "random_num = random.randint(1, 10)\n",
    "print('random_num:',random_num)\n",
    "guess = int(input())\n",
    "\n",
    "def check_number(num):\n",
    "    if num < 1 or num > 10:\n",
    "        print('please enter number 1 to 10')\n",
    "        int(input())\n",
    "    else:\n",
    "        flag = True\n",
    "        while flag:\n",
    "            if num != random_num:\n",
    "                print('random_num:',random_num)\n",
    "                print(f'Oops. Again')\n",
    "                print('your number:', num)\n",
    "                num = int(input())\n",
    "            else:\n",
    "                print('congrats!!')\n",
    "                flag = False\n",
    "                \n",
    "check_number(guess)\n"
   ]
  },
  {
   "cell_type": "code",
   "execution_count": 18,
   "id": "3dac2c76",
   "metadata": {
    "scrolled": false
   },
   "outputs": [
    {
     "name": "stdout",
     "output_type": "stream",
     "text": [
      "<re.Match object; span=(0, 15), match='gddgdsa$%#@4qr3'>\n"
     ]
    }
   ],
   "source": [
    "# Password Validation\n",
    "\n",
    "# At least 8 char long\n",
    "# contain any sort letters, numbers $%#@\n",
    "# has to end with a number\n",
    "\n",
    "import re\n",
    "\n",
    "check_password = re.compile(r\"[a-zA-Z0-9$%#@]{8,}\\d\")\n",
    "\n",
    "password = 'gddgdsa$%#@4qr3'\n",
    "check = check_password.fullmatch(password)\n",
    "\n",
    "if check == None:\n",
    "    print('please enter password that contains letters, numbers, signs, at least 8 characters and end with number')\n",
    "else:\n",
    "    print(check)"
   ]
  },
  {
   "cell_type": "code",
   "execution_count": 22,
   "id": "fc23a4c5",
   "metadata": {},
   "outputs": [
    {
     "name": "stdout",
     "output_type": "stream",
     "text": [
      "<re.Match object; span=(0, 15), match='gddgdsa$%#fadg3'>\n"
     ]
    }
   ],
   "source": [
    "# Password Validation 2\n",
    "\n",
    "# In the previous code, we created the password checker, \n",
    "# but we did not implement the last rule: password has to end with a number\n",
    "# How would you go about changing the regex we created in the previous \n",
    "# code to accommodate that rule?\n",
    "\n",
    "import re\n",
    "\n",
    "check_password2 = re.compile(r\"[a-zA-Z0-9$%#@]{8,}[0-9]\")\n",
    "\n",
    "password = 'gddgdsa$%#fadg3'\n",
    "check2 = check_password2.fullmatch(password)\n",
    "\n",
    "if check2 == None:\n",
    "    print('please enter password that contains letters, numbers, signs, at least 8 characters and end with number')\n",
    "else:\n",
    "    print(check2)"
   ]
  },
  {
   "cell_type": "code",
   "execution_count": null,
   "id": "d7161325",
   "metadata": {},
   "outputs": [],
   "source": []
  }
 ],
 "metadata": {
  "kernelspec": {
   "display_name": "Python 3 (ipykernel)",
   "language": "python",
   "name": "python3"
  },
  "language_info": {
   "codemirror_mode": {
    "name": "ipython",
    "version": 3
   },
   "file_extension": ".py",
   "mimetype": "text/x-python",
   "name": "python",
   "nbconvert_exporter": "python",
   "pygments_lexer": "ipython3",
   "version": "3.9.13"
  }
 },
 "nbformat": 4,
 "nbformat_minor": 5
}
